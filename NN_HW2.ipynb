{
  "cells": [
    {
      "cell_type": "markdown",
      "metadata": {
        "id": "view-in-github",
        "colab_type": "text"
      },
      "source": [
        "<a href=\"https://colab.research.google.com/github/Greta-gerasimov/NN/blob/NN2/NN_HW2.ipynb\" target=\"_parent\"><img src=\"https://colab.research.google.com/assets/colab-badge.svg\" alt=\"Open In Colab\"/></a>"
      ]
    },
    {
      "cell_type": "markdown",
      "source": [
        "\n",
        "\n",
        "1. Обучить, нейронную сеть на Keras на датасете MNIST."
      ],
      "metadata": {
        "id": "R3ybewMsw9oH"
      }
    },
    {
      "cell_type": "code",
      "execution_count": 250,
      "metadata": {
        "id": "Mrn7WhDjppOF",
        "colab": {
          "base_uri": "https://localhost:8080/"
        },
        "outputId": "286b3060-f124-4022-a87e-79cb79232122"
      },
      "outputs": [
        {
          "output_type": "stream",
          "name": "stdout",
          "text": [
            "Requirement already satisfied: keras in /usr/local/lib/python3.10/dist-packages (2.12.0)\n",
            "Requirement already satisfied: mnist in /usr/local/lib/python3.10/dist-packages (0.2.2)\n",
            "Requirement already satisfied: numpy in /usr/local/lib/python3.10/dist-packages (from mnist) (1.23.5)\n",
            "Requirement already satisfied: scikeras[tensorflow] in /usr/local/lib/python3.10/dist-packages (0.11.0)\n",
            "Requirement already satisfied: packaging>=0.21 in /usr/local/lib/python3.10/dist-packages (from scikeras[tensorflow]) (23.1)\n",
            "Requirement already satisfied: scikit-learn>=1.0.0 in /usr/local/lib/python3.10/dist-packages (from scikeras[tensorflow]) (1.2.2)\n",
            "Requirement already satisfied: tensorflow>=2.11.0 in /usr/local/lib/python3.10/dist-packages (from scikeras[tensorflow]) (2.12.0)\n",
            "Requirement already satisfied: numpy>=1.17.3 in /usr/local/lib/python3.10/dist-packages (from scikit-learn>=1.0.0->scikeras[tensorflow]) (1.23.5)\n",
            "Requirement already satisfied: scipy>=1.3.2 in /usr/local/lib/python3.10/dist-packages (from scikit-learn>=1.0.0->scikeras[tensorflow]) (1.10.1)\n",
            "Requirement already satisfied: joblib>=1.1.1 in /usr/local/lib/python3.10/dist-packages (from scikit-learn>=1.0.0->scikeras[tensorflow]) (1.3.2)\n",
            "Requirement already satisfied: threadpoolctl>=2.0.0 in /usr/local/lib/python3.10/dist-packages (from scikit-learn>=1.0.0->scikeras[tensorflow]) (3.2.0)\n",
            "Requirement already satisfied: absl-py>=1.0.0 in /usr/local/lib/python3.10/dist-packages (from tensorflow>=2.11.0->scikeras[tensorflow]) (1.4.0)\n",
            "Requirement already satisfied: astunparse>=1.6.0 in /usr/local/lib/python3.10/dist-packages (from tensorflow>=2.11.0->scikeras[tensorflow]) (1.6.3)\n",
            "Requirement already satisfied: flatbuffers>=2.0 in /usr/local/lib/python3.10/dist-packages (from tensorflow>=2.11.0->scikeras[tensorflow]) (23.5.26)\n",
            "Requirement already satisfied: gast<=0.4.0,>=0.2.1 in /usr/local/lib/python3.10/dist-packages (from tensorflow>=2.11.0->scikeras[tensorflow]) (0.4.0)\n",
            "Requirement already satisfied: google-pasta>=0.1.1 in /usr/local/lib/python3.10/dist-packages (from tensorflow>=2.11.0->scikeras[tensorflow]) (0.2.0)\n",
            "Requirement already satisfied: grpcio<2.0,>=1.24.3 in /usr/local/lib/python3.10/dist-packages (from tensorflow>=2.11.0->scikeras[tensorflow]) (1.57.0)\n",
            "Requirement already satisfied: h5py>=2.9.0 in /usr/local/lib/python3.10/dist-packages (from tensorflow>=2.11.0->scikeras[tensorflow]) (3.9.0)\n",
            "Requirement already satisfied: jax>=0.3.15 in /usr/local/lib/python3.10/dist-packages (from tensorflow>=2.11.0->scikeras[tensorflow]) (0.4.14)\n",
            "Requirement already satisfied: keras<2.13,>=2.12.0 in /usr/local/lib/python3.10/dist-packages (from tensorflow>=2.11.0->scikeras[tensorflow]) (2.12.0)\n",
            "Requirement already satisfied: libclang>=13.0.0 in /usr/local/lib/python3.10/dist-packages (from tensorflow>=2.11.0->scikeras[tensorflow]) (16.0.6)\n",
            "Requirement already satisfied: opt-einsum>=2.3.2 in /usr/local/lib/python3.10/dist-packages (from tensorflow>=2.11.0->scikeras[tensorflow]) (3.3.0)\n",
            "Requirement already satisfied: protobuf!=4.21.0,!=4.21.1,!=4.21.2,!=4.21.3,!=4.21.4,!=4.21.5,<5.0.0dev,>=3.20.3 in /usr/local/lib/python3.10/dist-packages (from tensorflow>=2.11.0->scikeras[tensorflow]) (3.20.3)\n",
            "Requirement already satisfied: setuptools in /usr/local/lib/python3.10/dist-packages (from tensorflow>=2.11.0->scikeras[tensorflow]) (67.7.2)\n",
            "Requirement already satisfied: six>=1.12.0 in /usr/local/lib/python3.10/dist-packages (from tensorflow>=2.11.0->scikeras[tensorflow]) (1.16.0)\n",
            "Requirement already satisfied: tensorboard<2.13,>=2.12 in /usr/local/lib/python3.10/dist-packages (from tensorflow>=2.11.0->scikeras[tensorflow]) (2.12.3)\n",
            "Requirement already satisfied: tensorflow-estimator<2.13,>=2.12.0 in /usr/local/lib/python3.10/dist-packages (from tensorflow>=2.11.0->scikeras[tensorflow]) (2.12.0)\n",
            "Requirement already satisfied: termcolor>=1.1.0 in /usr/local/lib/python3.10/dist-packages (from tensorflow>=2.11.0->scikeras[tensorflow]) (2.3.0)\n",
            "Requirement already satisfied: typing-extensions>=3.6.6 in /usr/local/lib/python3.10/dist-packages (from tensorflow>=2.11.0->scikeras[tensorflow]) (4.7.1)\n",
            "Requirement already satisfied: wrapt<1.15,>=1.11.0 in /usr/local/lib/python3.10/dist-packages (from tensorflow>=2.11.0->scikeras[tensorflow]) (1.14.1)\n",
            "Requirement already satisfied: tensorflow-io-gcs-filesystem>=0.23.1 in /usr/local/lib/python3.10/dist-packages (from tensorflow>=2.11.0->scikeras[tensorflow]) (0.33.0)\n",
            "Requirement already satisfied: wheel<1.0,>=0.23.0 in /usr/local/lib/python3.10/dist-packages (from astunparse>=1.6.0->tensorflow>=2.11.0->scikeras[tensorflow]) (0.41.2)\n",
            "Requirement already satisfied: ml-dtypes>=0.2.0 in /usr/local/lib/python3.10/dist-packages (from jax>=0.3.15->tensorflow>=2.11.0->scikeras[tensorflow]) (0.2.0)\n",
            "Requirement already satisfied: google-auth<3,>=1.6.3 in /usr/local/lib/python3.10/dist-packages (from tensorboard<2.13,>=2.12->tensorflow>=2.11.0->scikeras[tensorflow]) (2.17.3)\n",
            "Requirement already satisfied: google-auth-oauthlib<1.1,>=0.5 in /usr/local/lib/python3.10/dist-packages (from tensorboard<2.13,>=2.12->tensorflow>=2.11.0->scikeras[tensorflow]) (1.0.0)\n",
            "Requirement already satisfied: markdown>=2.6.8 in /usr/local/lib/python3.10/dist-packages (from tensorboard<2.13,>=2.12->tensorflow>=2.11.0->scikeras[tensorflow]) (3.4.4)\n",
            "Requirement already satisfied: requests<3,>=2.21.0 in /usr/local/lib/python3.10/dist-packages (from tensorboard<2.13,>=2.12->tensorflow>=2.11.0->scikeras[tensorflow]) (2.31.0)\n",
            "Requirement already satisfied: tensorboard-data-server<0.8.0,>=0.7.0 in /usr/local/lib/python3.10/dist-packages (from tensorboard<2.13,>=2.12->tensorflow>=2.11.0->scikeras[tensorflow]) (0.7.1)\n",
            "Requirement already satisfied: werkzeug>=1.0.1 in /usr/local/lib/python3.10/dist-packages (from tensorboard<2.13,>=2.12->tensorflow>=2.11.0->scikeras[tensorflow]) (2.3.7)\n",
            "Requirement already satisfied: cachetools<6.0,>=2.0.0 in /usr/local/lib/python3.10/dist-packages (from google-auth<3,>=1.6.3->tensorboard<2.13,>=2.12->tensorflow>=2.11.0->scikeras[tensorflow]) (5.3.1)\n",
            "Requirement already satisfied: pyasn1-modules>=0.2.1 in /usr/local/lib/python3.10/dist-packages (from google-auth<3,>=1.6.3->tensorboard<2.13,>=2.12->tensorflow>=2.11.0->scikeras[tensorflow]) (0.3.0)\n",
            "Requirement already satisfied: rsa<5,>=3.1.4 in /usr/local/lib/python3.10/dist-packages (from google-auth<3,>=1.6.3->tensorboard<2.13,>=2.12->tensorflow>=2.11.0->scikeras[tensorflow]) (4.9)\n",
            "Requirement already satisfied: requests-oauthlib>=0.7.0 in /usr/local/lib/python3.10/dist-packages (from google-auth-oauthlib<1.1,>=0.5->tensorboard<2.13,>=2.12->tensorflow>=2.11.0->scikeras[tensorflow]) (1.3.1)\n",
            "Requirement already satisfied: charset-normalizer<4,>=2 in /usr/local/lib/python3.10/dist-packages (from requests<3,>=2.21.0->tensorboard<2.13,>=2.12->tensorflow>=2.11.0->scikeras[tensorflow]) (3.2.0)\n",
            "Requirement already satisfied: idna<4,>=2.5 in /usr/local/lib/python3.10/dist-packages (from requests<3,>=2.21.0->tensorboard<2.13,>=2.12->tensorflow>=2.11.0->scikeras[tensorflow]) (3.4)\n",
            "Requirement already satisfied: urllib3<3,>=1.21.1 in /usr/local/lib/python3.10/dist-packages (from requests<3,>=2.21.0->tensorboard<2.13,>=2.12->tensorflow>=2.11.0->scikeras[tensorflow]) (2.0.4)\n",
            "Requirement already satisfied: certifi>=2017.4.17 in /usr/local/lib/python3.10/dist-packages (from requests<3,>=2.21.0->tensorboard<2.13,>=2.12->tensorflow>=2.11.0->scikeras[tensorflow]) (2023.7.22)\n",
            "Requirement already satisfied: MarkupSafe>=2.1.1 in /usr/local/lib/python3.10/dist-packages (from werkzeug>=1.0.1->tensorboard<2.13,>=2.12->tensorflow>=2.11.0->scikeras[tensorflow]) (2.1.3)\n",
            "Requirement already satisfied: pyasn1<0.6.0,>=0.4.6 in /usr/local/lib/python3.10/dist-packages (from pyasn1-modules>=0.2.1->google-auth<3,>=1.6.3->tensorboard<2.13,>=2.12->tensorflow>=2.11.0->scikeras[tensorflow]) (0.5.0)\n",
            "Requirement already satisfied: oauthlib>=3.0.0 in /usr/local/lib/python3.10/dist-packages (from requests-oauthlib>=0.7.0->google-auth-oauthlib<1.1,>=0.5->tensorboard<2.13,>=2.12->tensorflow>=2.11.0->scikeras[tensorflow]) (3.2.2)\n"
          ]
        }
      ],
      "source": [
        "!pip install keras\n",
        "!pip install mnist\n",
        "!pip install scikeras[tensorflow]"
      ]
    },
    {
      "cell_type": "code",
      "execution_count": 251,
      "metadata": {
        "id": "BdtNDP-W6TJi"
      },
      "outputs": [],
      "source": [
        "import numpy as np\n",
        "import pandas as pd\n",
        "import keras\n",
        "from keras.datasets import fashion_mnist\n",
        "from keras.models import Sequential\n",
        "from keras.layers import Dense\n",
        "from keras.utils import to_categorical\n",
        "from scikeras.wrappers import KerasClassifier\n",
        "from sklearn.model_selection import GridSearchCV\n",
        "from sklearn.metrics import classification_report\n",
        "from sklearn.metrics import confusion_matrix\n",
        "import matplotlib.pyplot as plt\n",
        "%matplotlib inline\n",
        "from keras.optimizers import Adam"
      ]
    },
    {
      "cell_type": "markdown",
      "source": [
        "### Building model for digit recognition"
      ],
      "metadata": {
        "id": "7mUHxbyoIDyA"
      }
    },
    {
      "cell_type": "code",
      "execution_count": 252,
      "metadata": {
        "id": "AGaj-oayW29B"
      },
      "outputs": [],
      "source": [
        "#import images\n",
        "(train_imagesi,train_labels),(test_imagesi,test_labels)=fashion_mnist.load_data()\n",
        "\n"
      ]
    },
    {
      "cell_type": "code",
      "source": [
        "print(train_imagesi[0].shape)"
      ],
      "metadata": {
        "colab": {
          "base_uri": "https://localhost:8080/"
        },
        "id": "WbQbMEsYZJU_",
        "outputId": "914d021b-4b35-45e4-cbfb-0ba970465b18"
      },
      "execution_count": 253,
      "outputs": [
        {
          "output_type": "stream",
          "name": "stdout",
          "text": [
            "(28, 28)\n"
          ]
        }
      ]
    },
    {
      "cell_type": "code",
      "source": [
        "\n",
        "print(test_labels.shape)\n",
        "\n",
        "print(train_labels[0])"
      ],
      "metadata": {
        "colab": {
          "base_uri": "https://localhost:8080/"
        },
        "id": "pG2i5sHf_wbQ",
        "outputId": "adb51ed1-f860-4914-f9b3-c2781a8317af"
      },
      "execution_count": 254,
      "outputs": [
        {
          "output_type": "stream",
          "name": "stdout",
          "text": [
            "(10000,)\n",
            "9\n"
          ]
        }
      ]
    },
    {
      "cell_type": "code",
      "source": [
        "print(train_imagesi[0])"
      ],
      "metadata": {
        "colab": {
          "base_uri": "https://localhost:8080/"
        },
        "id": "-_ndJTdWZUsb",
        "outputId": "c9859170-a3ea-4200-a882-f1b143fba93a"
      },
      "execution_count": 255,
      "outputs": [
        {
          "output_type": "stream",
          "name": "stdout",
          "text": [
            "[[  0   0   0   0   0   0   0   0   0   0   0   0   0   0   0   0   0   0\n",
            "    0   0   0   0   0   0   0   0   0   0]\n",
            " [  0   0   0   0   0   0   0   0   0   0   0   0   0   0   0   0   0   0\n",
            "    0   0   0   0   0   0   0   0   0   0]\n",
            " [  0   0   0   0   0   0   0   0   0   0   0   0   0   0   0   0   0   0\n",
            "    0   0   0   0   0   0   0   0   0   0]\n",
            " [  0   0   0   0   0   0   0   0   0   0   0   0   1   0   0  13  73   0\n",
            "    0   1   4   0   0   0   0   1   1   0]\n",
            " [  0   0   0   0   0   0   0   0   0   0   0   0   3   0  36 136 127  62\n",
            "   54   0   0   0   1   3   4   0   0   3]\n",
            " [  0   0   0   0   0   0   0   0   0   0   0   0   6   0 102 204 176 134\n",
            "  144 123  23   0   0   0   0  12  10   0]\n",
            " [  0   0   0   0   0   0   0   0   0   0   0   0   0   0 155 236 207 178\n",
            "  107 156 161 109  64  23  77 130  72  15]\n",
            " [  0   0   0   0   0   0   0   0   0   0   0   1   0  69 207 223 218 216\n",
            "  216 163 127 121 122 146 141  88 172  66]\n",
            " [  0   0   0   0   0   0   0   0   0   1   1   1   0 200 232 232 233 229\n",
            "  223 223 215 213 164 127 123 196 229   0]\n",
            " [  0   0   0   0   0   0   0   0   0   0   0   0   0 183 225 216 223 228\n",
            "  235 227 224 222 224 221 223 245 173   0]\n",
            " [  0   0   0   0   0   0   0   0   0   0   0   0   0 193 228 218 213 198\n",
            "  180 212 210 211 213 223 220 243 202   0]\n",
            " [  0   0   0   0   0   0   0   0   0   1   3   0  12 219 220 212 218 192\n",
            "  169 227 208 218 224 212 226 197 209  52]\n",
            " [  0   0   0   0   0   0   0   0   0   0   6   0  99 244 222 220 218 203\n",
            "  198 221 215 213 222 220 245 119 167  56]\n",
            " [  0   0   0   0   0   0   0   0   0   4   0   0  55 236 228 230 228 240\n",
            "  232 213 218 223 234 217 217 209  92   0]\n",
            " [  0   0   1   4   6   7   2   0   0   0   0   0 237 226 217 223 222 219\n",
            "  222 221 216 223 229 215 218 255  77   0]\n",
            " [  0   3   0   0   0   0   0   0   0  62 145 204 228 207 213 221 218 208\n",
            "  211 218 224 223 219 215 224 244 159   0]\n",
            " [  0   0   0   0  18  44  82 107 189 228 220 222 217 226 200 205 211 230\n",
            "  224 234 176 188 250 248 233 238 215   0]\n",
            " [  0  57 187 208 224 221 224 208 204 214 208 209 200 159 245 193 206 223\n",
            "  255 255 221 234 221 211 220 232 246   0]\n",
            " [  3 202 228 224 221 211 211 214 205 205 205 220 240  80 150 255 229 221\n",
            "  188 154 191 210 204 209 222 228 225   0]\n",
            " [ 98 233 198 210 222 229 229 234 249 220 194 215 217 241  65  73 106 117\n",
            "  168 219 221 215 217 223 223 224 229  29]\n",
            " [ 75 204 212 204 193 205 211 225 216 185 197 206 198 213 240 195 227 245\n",
            "  239 223 218 212 209 222 220 221 230  67]\n",
            " [ 48 203 183 194 213 197 185 190 194 192 202 214 219 221 220 236 225 216\n",
            "  199 206 186 181 177 172 181 205 206 115]\n",
            " [  0 122 219 193 179 171 183 196 204 210 213 207 211 210 200 196 194 191\n",
            "  195 191 198 192 176 156 167 177 210  92]\n",
            " [  0   0  74 189 212 191 175 172 175 181 185 188 189 188 193 198 204 209\n",
            "  210 210 211 188 188 194 192 216 170   0]\n",
            " [  2   0   0   0  66 200 222 237 239 242 246 243 244 221 220 193 191 179\n",
            "  182 182 181 176 166 168  99  58   0   0]\n",
            " [  0   0   0   0   0   0   0  40  61  44  72  41  35   0   0   0   0   0\n",
            "    0   0   0   0   0   0   0   0   0   0]\n",
            " [  0   0   0   0   0   0   0   0   0   0   0   0   0   0   0   0   0   0\n",
            "    0   0   0   0   0   0   0   0   0   0]\n",
            " [  0   0   0   0   0   0   0   0   0   0   0   0   0   0   0   0   0   0\n",
            "    0   0   0   0   0   0   0   0   0   0]]\n"
          ]
        }
      ]
    },
    {
      "cell_type": "code",
      "source": [
        "plt.imshow(train_imagesi[0], cmap = 'binary')\n",
        "plt.axis('off')"
      ],
      "metadata": {
        "colab": {
          "base_uri": "https://localhost:8080/",
          "height": 423
        },
        "id": "_4MjU1wvZedg",
        "outputId": "cddb75ab-5edb-4809-e289-6ea5c5f84e07"
      },
      "execution_count": 256,
      "outputs": [
        {
          "output_type": "execute_result",
          "data": {
            "text/plain": [
              "(-0.5, 27.5, 27.5, -0.5)"
            ]
          },
          "metadata": {},
          "execution_count": 256
        },
        {
          "output_type": "display_data",
          "data": {
            "text/plain": [
              "<Figure size 640x480 with 1 Axes>"
            ],
            "image/png": "[encoded data removed]"
          },
          "metadata": {}
        }
      ]
    },
    {
      "cell_type": "code",
      "source": [
        "# Normalize the images.\n",
        "train_imagesi = (train_imagesi / 127) -1\n",
        "test_imagesi = (test_imagesi / 127)-1\n",
        "\n",
        "# Flatten the images.\n",
        "train_images = train_imagesi.reshape((-1, 784))\n",
        "test_images = test_imagesi.reshape((-1, 784))"
      ],
      "metadata": {
        "id": "vNXhugUSYzWh"
      },
      "execution_count": 257,
      "outputs": []
    },
    {
      "cell_type": "code",
      "source": [
        "print(train_images.shape) # (60000, 784)\n",
        "print(test_images.shape)  # (10000, 784)"
      ],
      "metadata": {
        "colab": {
          "base_uri": "https://localhost:8080/"
        },
        "id": "MJVJ4CFtZdhD",
        "outputId": "8966651a-55e5-414b-c041-8b414aa9a21f"
      },
      "execution_count": 258,
      "outputs": [
        {
          "output_type": "stream",
          "name": "stdout",
          "text": [
            "(60000, 784)\n",
            "(10000, 784)\n"
          ]
        }
      ]
    },
    {
      "cell_type": "code",
      "source": [
        "plt.imshow(train_imagesi[0])\n",
        "plt.show()\n",
        "print(train_labels[0])"
      ],
      "metadata": {
        "colab": {
          "base_uri": "https://localhost:8080/",
          "height": 447
        },
        "id": "Kp52UfieZTwE",
        "outputId": "915f9845-a7f4-4e2d-981e-c810c04cd2a0"
      },
      "execution_count": 259,
      "outputs": [
        {
          "output_type": "display_data",
          "data": {
            "text/plain": [
              "<Figure size 640x480 with 1 Axes>"
            ],
            "image/png": "[encoded data removed]"
          },
          "metadata": {}
        },
        {
          "output_type": "stream",
          "name": "stdout",
          "text": [
            "9\n"
          ]
        }
      ]
    },
    {
      "cell_type": "code",
      "source": [
        "train_images[202,:]"
      ],
      "metadata": {
        "colab": {
          "base_uri": "https://localhost:8080/"
        },
        "id": "Cu_JkXrvaly_",
        "outputId": "d995272b-9439-4558-e49a-8103244fbe18"
      },
      "execution_count": 260,
      "outputs": [
        {
          "output_type": "execute_result",
          "data": {
            "text/plain": [
              "array([-1.        , -1.        , -1.        , -1.        , -1.        ,\n",
              "       -1.        , -1.        , -1.        , -1.        , -1.        ,\n",
              "       -1.        , -0.88188976, -0.36220472, -0.63779528, -0.62992126,\n",
              "       -0.45669291, -0.79527559, -1.        , -1.        , -1.        ,\n",
              "       -0.99212598, -0.99212598, -1.        , -0.99212598, -1.        ,\n",
              "       -1.        , -1.        , -1.        , -1.        , -1.        ,\n",
              "       -1.        , -0.99212598, -0.98425197, -0.99212598, -1.        ,\n",
              "       -1.        , -1.        , -1.        , -0.97637795, -0.77952756,\n",
              "        0.22834646,  0.30708661,  0.31496063,  0.31496063, -0.5984252 ,\n",
              "       -1.        , -1.        , -1.        , -1.        , -0.99212598,\n",
              "       -1.        , -0.99212598, -1.        , -1.        , -1.        ,\n",
              "       -1.        , -1.        , -1.        , -1.        , -1.        ,\n",
              "       -0.98425197, -1.        , -1.        , -0.92125984, -0.70866142,\n",
              "       -0.54330709, -0.4015748 , -0.83464567, -0.2519685 ,  0.94488189,\n",
              "        1.00787402,  0.38582677, -0.8976378 , -0.51968504, -0.51968504,\n",
              "       -0.73228346, -0.8976378 , -1.        , -1.        , -1.        ,\n",
              "       -1.        , -1.        , -1.        , -1.        , -1.        ,\n",
              "       -1.        , -1.        , -1.        , -1.        , -0.91338583,\n",
              "       -0.48818898, -0.46456693, -0.47244094, -0.51968504, -0.5511811 ,\n",
              "       -0.75590551, -0.90551181, -0.05511811,  0.33070866, -0.70866142,\n",
              "       -0.81102362, -0.55905512, -0.55905512, -0.50393701, -0.44094488,\n",
              "       -0.5511811 , -0.95275591, -1.        , -1.        , -1.        ,\n",
              "       -1.        , -1.        , -1.        , -1.        , -1.        ,\n",
              "       -1.        , -1.        , -0.55905512, -0.54330709, -0.5984252 ,\n",
              "       -0.61417323, -0.5984252 , -0.59055118, -0.62204724, -0.5511811 ,\n",
              "       -0.62204724, -0.74015748, -0.55905512, -0.56692913, -0.59055118,\n",
              "       -0.5984252 , -0.60629921, -0.5984252 , -0.49606299, -0.56692913,\n",
              "       -1.        , -1.        , -1.        , -1.        , -1.        ,\n",
              "       -1.        , -1.        , -1.        , -1.        , -0.80314961,\n",
              "       -0.51181102, -0.62204724, -0.59055118, -0.61417323, -0.61417323,\n",
              "       -0.5984252 , -0.62204724, -0.64566929, -0.56692913, -0.59055118,\n",
              "       -0.62992126, -0.61417323, -0.61417323, -0.66929134, -0.58267717,\n",
              "       -0.60629921, -0.60629921, -0.48031496, -0.81102362, -1.        ,\n",
              "       -1.        , -1.        , -1.        , -1.        , -1.        ,\n",
              "       -1.        , -1.        , -0.61417323, -0.51968504, -0.50393701,\n",
              "       -0.60629921, -0.63779528, -0.61417323, -0.5984252 , -0.62204724,\n",
              "       -0.5984252 , -0.54330709, -0.58267717, -0.59055118, -0.62204724,\n",
              "       -0.57480315, -0.57480315, -0.66141732, -0.61417323, -0.52755906,\n",
              "       -0.48818898, -0.62992126, -1.        , -1.        , -1.        ,\n",
              "       -1.        , -1.        , -1.        , -1.        , -0.97637795,\n",
              "       -0.50393701, -0.55905512, -0.39370079, -0.59055118, -0.62992126,\n",
              "       -0.61417323, -0.60629921, -0.61417323, -0.58267717, -0.52755906,\n",
              "       -0.58267717, -0.57480315, -0.64566929, -0.47244094,  0.31496063,\n",
              "       -0.64566929, -0.5984252 , -0.48031496, -0.49606299, -0.54330709,\n",
              "       -1.        , -1.        , -1.        , -1.        , -1.        ,\n",
              "       -1.        , -1.        , -0.88188976, -0.51968504, -0.60629921,\n",
              "       -0.29133858, -0.5511811 , -0.66929134, -0.59055118, -0.61417323,\n",
              "       -0.61417323, -0.5984252 , -0.55905512, -0.57480315, -0.5984252 ,\n",
              "       -0.60629921, -0.67716535, -0.55905512, -0.62992126, -0.62204724,\n",
              "       -0.29133858, -0.54330709, -0.46456693, -0.92913386, -1.        ,\n",
              "       -1.        , -1.        , -1.        , -1.        , -1.        ,\n",
              "       -0.73228346, -0.55905512, -0.5984252 , -0.26771654, -0.47244094,\n",
              "       -0.66929134, -0.56692913, -0.60629921, -0.59055118, -0.59055118,\n",
              "       -0.58267717, -0.57480315, -0.59055118, -0.59055118, -0.5984252 ,\n",
              "       -0.60629921, -0.64566929, -0.48031496, -0.1023622 , -0.5984252 ,\n",
              "       -0.49606299, -0.79527559, -1.        , -1.        , -1.        ,\n",
              "       -1.        , -1.        , -1.        , -0.66141732, -0.51968504,\n",
              "       -0.52755906, -0.13385827, -0.28346457, -0.7007874 , -0.55905512,\n",
              "       -0.59055118, -0.58267717, -0.56692913, -0.59055118, -0.5984252 ,\n",
              "       -0.58267717, -0.56692913, -0.5511811 , -0.50393701, -0.69291339,\n",
              "       -0.29133858, -0.28346457, -0.58267717, -0.48818898, -0.66141732,\n",
              "       -1.        , -1.        , -1.        , -1.        , -1.        ,\n",
              "       -1.        , -1.        , -0.90551181, -0.81889764, -0.33070866,\n",
              "       -0.22047244, -0.69291339, -0.54330709, -0.5984252 , -0.59055118,\n",
              "       -0.58267717, -0.58267717, -0.58267717, -0.58267717, -0.57480315,\n",
              "       -0.56692913, -0.58267717, -0.66929134,  0.12598425, -0.11023622,\n",
              "       -0.54330709, -0.69291339, -0.86614173, -1.        , -1.        ,\n",
              "       -1.        , -1.        , -1.        , -1.        , -1.        ,\n",
              "       -1.        , -1.        , -1.        , -0.73228346, -0.52755906,\n",
              "       -0.55905512, -0.59055118, -0.59055118, -0.5984252 , -0.5984252 ,\n",
              "       -0.5984252 , -0.58267717, -0.56692913, -0.58267717, -0.59055118,\n",
              "       -0.5511811 , -0.4488189 , -0.78740157, -1.        , -1.        ,\n",
              "       -1.        , -1.        , -1.        , -1.        , -1.        ,\n",
              "       -1.        , -1.        , -1.        , -1.        , -1.        ,\n",
              "       -1.        , -0.81102362, -0.51968504, -0.5984252 , -0.59055118,\n",
              "       -0.59055118, -0.5984252 , -0.5984252 , -0.59055118, -0.57480315,\n",
              "       -0.5511811 , -0.55905512, -0.62992126, -0.49606299, -0.78740157,\n",
              "       -1.        , -1.        , -1.        , -1.        , -1.        ,\n",
              "       -1.        , -1.        , -1.        , -1.        , -1.        ,\n",
              "       -1.        , -1.        , -1.        , -1.        , -0.8503937 ,\n",
              "       -0.52755906, -0.63779528, -0.57480315, -0.59055118, -0.5984252 ,\n",
              "       -0.59055118, -0.58267717, -0.56692913, -0.5511811 , -0.5511811 ,\n",
              "       -0.62992126, -0.52755906, -0.73228346, -1.        , -0.99212598,\n",
              "       -1.        , -1.        , -1.        , -1.        , -1.        ,\n",
              "       -1.        , -1.        , -1.        , -1.        , -1.        ,\n",
              "       -1.        , -1.        , -0.83464567, -0.56692913, -0.63779528,\n",
              "       -0.58267717, -0.59055118, -0.5984252 , -0.59055118, -0.59055118,\n",
              "       -0.56692913, -0.55905512, -0.55905512, -0.57480315, -0.54330709,\n",
              "       -0.77952756, -1.        , -1.        , -0.99212598, -1.        ,\n",
              "       -1.        , -1.        , -1.        , -1.        , -1.        ,\n",
              "       -1.        , -1.        , -1.        , -1.        , -1.        ,\n",
              "       -0.84251969, -0.5984252 , -0.5984252 , -0.5984252 , -0.5984252 ,\n",
              "       -0.59055118, -0.59055118, -0.5984252 , -0.58267717, -0.54330709,\n",
              "       -0.55905512, -0.57480315, -0.52755906, -0.80314961, -1.        ,\n",
              "       -0.98425197, -1.        , -1.        , -1.        , -1.        ,\n",
              "       -1.        , -1.        , -1.        , -1.        , -1.        ,\n",
              "       -1.        , -1.        , -1.        , -0.8503937 , -0.58267717,\n",
              "       -0.58267717, -0.5984252 , -0.5984252 , -0.5984252 , -0.57480315,\n",
              "       -0.58267717, -0.59055118, -0.5511811 , -0.54330709, -0.5984252 ,\n",
              "       -0.51968504, -0.81102362, -1.        , -0.98425197, -0.99212598,\n",
              "       -1.        , -1.        , -1.        , -1.        , -1.        ,\n",
              "       -1.        , -1.        , -1.        , -1.        , -1.        ,\n",
              "       -1.        , -0.83464567, -0.56692913, -0.62992126, -0.5984252 ,\n",
              "       -0.5984252 , -0.5984252 , -0.57480315, -0.57480315, -0.59055118,\n",
              "       -0.56692913, -0.51181102, -0.5984252 , -0.56692913, -0.78740157,\n",
              "       -1.        , -0.99212598, -1.        , -1.        , -1.        ,\n",
              "       -1.        , -1.        , -1.        , -1.        , -1.        ,\n",
              "       -1.        , -1.        , -1.        , -1.        , -0.81889764,\n",
              "       -0.56692913, -0.63779528, -0.59055118, -0.59055118, -0.59055118,\n",
              "       -0.58267717, -0.58267717, -0.58267717, -0.58267717, -0.51968504,\n",
              "       -0.57480315, -0.56692913, -0.76377953, -1.        , -0.99212598,\n",
              "       -1.        , -1.        , -1.        , -1.        , -1.        ,\n",
              "       -1.        , -1.        , -1.        , -1.        , -1.        ,\n",
              "       -1.        , -1.        , -0.76377953, -0.59055118, -0.63779528,\n",
              "       -0.58267717, -0.59055118, -0.58267717, -0.58267717, -0.58267717,\n",
              "       -0.57480315, -0.5984252 , -0.55905512, -0.51968504, -0.57480315,\n",
              "       -0.76377953, -1.        , -0.99212598, -0.99212598, -1.        ,\n",
              "       -1.        , -1.        , -1.        , -1.        , -1.        ,\n",
              "       -1.        , -1.        , -1.        , -1.        , -1.        ,\n",
              "       -0.75590551, -0.60629921, -0.62204724, -0.58267717, -0.59055118,\n",
              "       -0.59055118, -0.58267717, -0.58267717, -0.58267717, -0.59055118,\n",
              "       -0.59055118, -0.52755906, -0.54330709, -0.75590551, -1.        ,\n",
              "       -1.        , -1.        , -1.        , -1.        , -1.        ,\n",
              "       -1.        , -1.        , -1.        , -1.        , -1.        ,\n",
              "       -1.        , -1.        , -1.        , -0.77952756, -0.60629921,\n",
              "       -0.61417323, -0.5984252 , -0.59055118, -0.58267717, -0.58267717,\n",
              "       -0.57480315, -0.58267717, -0.57480315, -0.5984252 , -0.58267717,\n",
              "       -0.50393701, -0.7480315 , -1.        , -1.        , -1.        ,\n",
              "       -1.        , -1.        , -1.        , -1.        , -1.        ,\n",
              "       -1.        , -1.        , -1.        , -1.        , -1.        ,\n",
              "       -1.        , -0.75590551, -0.62204724, -0.61417323, -0.61417323,\n",
              "       -0.58267717, -0.57480315, -0.57480315, -0.57480315, -0.59055118,\n",
              "       -0.56692913, -0.59055118, -0.5984252 , -0.54330709, -0.73228346,\n",
              "       -1.        , -1.        , -1.        , -1.        , -1.        ,\n",
              "       -1.        , -1.        , -1.        , -1.        , -1.        ,\n",
              "       -1.        , -1.        , -1.        , -1.        , -0.7480315 ,\n",
              "       -0.61417323, -0.60629921, -0.60629921, -0.57480315, -0.57480315,\n",
              "       -0.57480315, -0.57480315, -0.59055118, -0.57480315, -0.59055118,\n",
              "       -0.59055118, -0.54330709, -0.74015748, -1.        , -1.        ,\n",
              "       -1.        , -1.        , -1.        , -1.        , -1.        ,\n",
              "       -1.        , -1.        , -1.        , -1.        , -1.        ,\n",
              "       -1.        , -1.        , -0.7480315 , -0.61417323, -0.60629921,\n",
              "       -0.5984252 , -0.56692913, -0.56692913, -0.57480315, -0.57480315,\n",
              "       -0.59055118, -0.57480315, -0.5984252 , -0.5984252 , -0.54330709,\n",
              "       -0.74015748, -1.        , -1.        , -1.        , -1.        ,\n",
              "       -1.        , -1.        , -1.        , -1.        , -1.        ,\n",
              "       -1.        , -1.        , -1.        , -1.        , -1.        ,\n",
              "       -0.72440945, -0.56692913, -0.57480315, -0.58267717, -0.5511811 ,\n",
              "       -0.5511811 , -0.55905512, -0.55905512, -0.56692913, -0.55905512,\n",
              "       -0.5511811 , -0.56692913, -0.51181102, -0.70866142, -1.        ,\n",
              "       -1.        , -1.        , -1.        , -1.        , -1.        ,\n",
              "       -1.        , -1.        , -1.        , -1.        , -1.        ,\n",
              "       -1.        , -1.        , -1.        , -0.79527559, -0.63779528,\n",
              "       -0.66929134, -0.66141732, -0.63779528, -0.64566929, -0.64566929,\n",
              "       -0.63779528, -0.63779528, -0.63779528, -0.63779528, -0.66929134,\n",
              "       -0.60629921, -0.77952756, -1.        , -0.99212598, -1.        ,\n",
              "       -1.        , -1.        , -1.        , -1.        ])"
            ]
          },
          "metadata": {},
          "execution_count": 260
        }
      ]
    },
    {
      "cell_type": "code",
      "source": [
        "y_train = keras.utils.to_categorical(train_labels,10)\n",
        "y_test = keras.utils.to_categorical(test_labels,10)"
      ],
      "metadata": {
        "id": "f8M4brtmFm0a"
      },
      "execution_count": 261,
      "outputs": []
    },
    {
      "cell_type": "markdown",
      "source": [
        "#Модель 3-слойной нейронной сети##\n",
        "\n",
        "\n",
        "\n"
      ],
      "metadata": {
        "id": "YPNm5ywkaqim"
      }
    },
    {
      "cell_type": "code",
      "execution_count": 262,
      "metadata": {
        "id": "TyAghDELZOVL",
        "colab": {
          "base_uri": "https://localhost:8080/",
          "height": 590
        },
        "outputId": "fc7aa8e4-51b9-44ef-c874-2ed9e726bc14"
      },
      "outputs": [
        {
          "output_type": "stream",
          "name": "stdout",
          "text": [
            "Epoch 1/15\n",
            "96/96 [==============================] - 3s 8ms/step - loss: 0.6333 - accuracy: 0.7740 - val_loss: 0.4635 - val_accuracy: 0.8299\n",
            "Epoch 2/15\n",
            "96/96 [==============================] - 0s 5ms/step - loss: 0.4126 - accuracy: 0.8527 - val_loss: 0.3944 - val_accuracy: 0.8600\n",
            "Epoch 3/15\n",
            "96/96 [==============================] - 1s 9ms/step - loss: 0.3688 - accuracy: 0.8673 - val_loss: 0.3859 - val_accuracy: 0.8607\n",
            "Epoch 4/15\n",
            "96/96 [==============================] - 1s 8ms/step - loss: 0.3403 - accuracy: 0.8766 - val_loss: 0.3589 - val_accuracy: 0.8684\n",
            "Epoch 5/15\n",
            "96/96 [==============================] - 1s 7ms/step - loss: 0.3172 - accuracy: 0.8846 - val_loss: 0.3534 - val_accuracy: 0.8730\n",
            "Epoch 6/15\n",
            "96/96 [==============================] - 0s 4ms/step - loss: 0.2980 - accuracy: 0.8904 - val_loss: 0.3518 - val_accuracy: 0.8726\n",
            "Epoch 7/15\n",
            "96/96 [==============================] - 0s 4ms/step - loss: 0.2909 - accuracy: 0.8943 - val_loss: 0.3326 - val_accuracy: 0.8805\n",
            "Epoch 8/15\n",
            "96/96 [==============================] - 0s 4ms/step - loss: 0.2712 - accuracy: 0.9015 - val_loss: 0.3312 - val_accuracy: 0.8804\n",
            "Epoch 9/15\n",
            "96/96 [==============================] - 0s 4ms/step - loss: 0.2649 - accuracy: 0.9028 - val_loss: 0.3258 - val_accuracy: 0.8810\n",
            "Epoch 10/15\n",
            "96/96 [==============================] - 0s 5ms/step - loss: 0.2498 - accuracy: 0.9078 - val_loss: 0.3236 - val_accuracy: 0.8859\n",
            "Epoch 11/15\n",
            "96/96 [==============================] - 0s 4ms/step - loss: 0.2427 - accuracy: 0.9102 - val_loss: 0.3210 - val_accuracy: 0.8841\n",
            "Epoch 12/15\n",
            "96/96 [==============================] - 0s 4ms/step - loss: 0.2304 - accuracy: 0.9147 - val_loss: 0.3201 - val_accuracy: 0.8875\n",
            "Epoch 13/15\n",
            "96/96 [==============================] - 0s 4ms/step - loss: 0.2183 - accuracy: 0.9200 - val_loss: 0.3133 - val_accuracy: 0.8885\n",
            "Epoch 14/15\n",
            "96/96 [==============================] - 0s 5ms/step - loss: 0.2138 - accuracy: 0.9211 - val_loss: 0.3156 - val_accuracy: 0.8854\n",
            "Epoch 15/15\n",
            "96/96 [==============================] - 0s 4ms/step - loss: 0.2045 - accuracy: 0.9254 - val_loss: 0.3189 - val_accuracy: 0.8873\n",
            "313/313 [==============================] - 1s 4ms/step - loss: 0.3479 - accuracy: 0.8791\n"
          ]
        },
        {
          "output_type": "display_data",
          "data": {
            "text/plain": [
              "<Figure size 1600x700 with 0 Axes>"
            ]
          },
          "metadata": {}
        },
        {
          "output_type": "display_data",
          "data": {
            "text/plain": [
              "<Figure size 1600x700 with 0 Axes>"
            ]
          },
          "metadata": {}
        }
      ],
      "source": [
        "# Build the model.\n",
        "result_dense = []\n",
        "\n",
        "plt.figure(figsize=(16,7))\n",
        "# Build the model.\n",
        "\n",
        "plt.figure(figsize=(16,7))\n",
        "\n",
        "# число рабочих эпох\n",
        "epochs = 15\n",
        "# вектор для выводв результатов\n",
        "epoch = np.arange(epochs)\n",
        "def create_model(optimizer='adam'):\n",
        "      model3 = Sequential([\n",
        "      Dense(128, input_shape=(784,), activation='relu'),\n",
        "      Dense(256, activation='relu'),\n",
        "      Dense(10, activation ='softmax'),\n",
        "    ])\n",
        "\n",
        "    # Compile the model.\n",
        "      model3.compile(\n",
        "      optimizer=optimizer,\n",
        "      loss='categorical_crossentropy',\n",
        "      metrics=['accuracy'],\n",
        "    )\n",
        "\n",
        "\n",
        "      return model3\n",
        "model3 = create_model()\n",
        "\n",
        "# Train the model\n",
        "history3 = model3.fit(\n",
        "          train_images,\n",
        "          to_categorical(train_labels,10),\n",
        "          epochs =15,\n",
        "          batch_size = 500, validation_split =0.2)\n",
        " #Evaluate the model\n",
        "test_scores3 = model3.evaluate(\n",
        "          test_images,\n",
        "          to_categorical(test_labels)\n",
        "      )\n",
        "\n",
        "# накопление результатов\n",
        "mod_name = f'2-слойная сеть'\n",
        "mod_accuracy = history3.history['accuracy'][epochs-1]\n",
        "mod_val_accuracy = history3.history['val_accuracy'][epochs-1]\n",
        "test_accuracy = test_scores3[1]\n",
        "result_dense.append([mod_name,mod_accuracy, mod_val_accuracy, test_accuracy])\n",
        "\n",
        "\n",
        ""
      ]
    },
    {
      "cell_type": "code",
      "source": [
        "# Predict on the first 10 test images.\n",
        "predictions = model3.predict(test_images[:10])\n",
        "\n",
        "# Print our model's predictions.\n",
        "print(f'Predictions: {np.argmax(predictions, axis=1)}')\n",
        "\n",
        "# Check our predictions against the ground truths.\n",
        "print(f'True labels: {test_labels[:10]}')"
      ],
      "metadata": {
        "colab": {
          "base_uri": "https://localhost:8080/"
        },
        "id": "o4mMjqT1IMoI",
        "outputId": "f4e080fc-46a4-4dc2-8b40-fa3f29ec981d"
      },
      "execution_count": 263,
      "outputs": [
        {
          "output_type": "stream",
          "name": "stdout",
          "text": [
            "1/1 [==============================] - 0s 126ms/step\n",
            "Predictions: [9 2 1 1 6 1 4 6 5 7]\n",
            "True labels: [9 2 1 1 6 1 4 6 5 7]\n"
          ]
        }
      ]
    },
    {
      "cell_type": "markdown",
      "source": [
        "##построение модели 2- слойной нейронной сети#"
      ],
      "metadata": {
        "id": "e6pQ7eNiiaLX"
      }
    },
    {
      "cell_type": "code",
      "source": [
        "# Build the model.\n",
        "\n",
        "plt.figure(figsize=(16,7))\n",
        "\n",
        "# число рабочих эпох\n",
        "epochs = 15\n",
        "# вектор для выводв результатов\n",
        "epoch = np.arange(epochs)\n",
        "def create_model(optimizer='adam'):\n",
        "      model2 = Sequential([\n",
        "      Dense(128, input_shape=(784,), activation='relu'),\n",
        "      Dense(256, activation='relu'),\n",
        "      Dense(10, activation ='softmax'),\n",
        "    ])\n",
        "\n",
        "    # Compile the model.\n",
        "      model2.compile(\n",
        "      optimizer=optimizer,\n",
        "      loss='categorical_crossentropy',\n",
        "      metrics=['accuracy'],\n",
        "    )\n",
        "\n",
        "\n",
        "      return model2\n",
        "model2 = create_model()\n",
        "\n",
        "# Train the model\n",
        "history2 = model2.fit(\n",
        "          train_images,\n",
        "          to_categorical(train_labels,10),\n",
        "          epochs =15,\n",
        "          batch_size = 500, validation_split =0.2)\n",
        " #Evaluate the model\n",
        "test_scores2 = model2.evaluate(\n",
        "          test_images,\n",
        "          to_categorical(test_labels)\n",
        "      )\n",
        "\n",
        "# накопление результатов\n",
        "mod_name = f'2-слойная сеть'\n",
        "mod_accuracy = history2.history['accuracy'][epochs-1]\n",
        "mod_val_accuracy = history2.history['val_accuracy'][epochs-1]\n",
        "test_accuracy = test_scores2[1]\n",
        "result_dense.append([mod_name,mod_accuracy, mod_val_accuracy, test_accuracy])\n",
        "\n",
        "\n"
      ],
      "metadata": {
        "colab": {
          "base_uri": "https://localhost:8080/",
          "height": 572
        },
        "id": "yp-h7B1yqlhb",
        "outputId": "cb0dbee0-d879-42db-a060-101e4e416cff"
      },
      "execution_count": 264,
      "outputs": [
        {
          "output_type": "stream",
          "name": "stdout",
          "text": [
            "Epoch 1/15\n",
            "96/96 [==============================] - 2s 7ms/step - loss: 0.6374 - accuracy: 0.7764 - val_loss: 0.4469 - val_accuracy: 0.8363\n",
            "Epoch 2/15\n",
            "96/96 [==============================] - 1s 7ms/step - loss: 0.4183 - accuracy: 0.8491 - val_loss: 0.3929 - val_accuracy: 0.8580\n",
            "Epoch 3/15\n",
            "96/96 [==============================] - 1s 7ms/step - loss: 0.3692 - accuracy: 0.8661 - val_loss: 0.3698 - val_accuracy: 0.8674\n",
            "Epoch 4/15\n",
            "96/96 [==============================] - 1s 6ms/step - loss: 0.3381 - accuracy: 0.8770 - val_loss: 0.3533 - val_accuracy: 0.8741\n",
            "Epoch 5/15\n",
            "96/96 [==============================] - 1s 6ms/step - loss: 0.3211 - accuracy: 0.8834 - val_loss: 0.3543 - val_accuracy: 0.8723\n",
            "Epoch 6/15\n",
            "96/96 [==============================] - 0s 5ms/step - loss: 0.3056 - accuracy: 0.8881 - val_loss: 0.3360 - val_accuracy: 0.8790\n",
            "Epoch 7/15\n",
            "96/96 [==============================] - 0s 5ms/step - loss: 0.2820 - accuracy: 0.8978 - val_loss: 0.3379 - val_accuracy: 0.8783\n",
            "Epoch 8/15\n",
            "96/96 [==============================] - 0s 4ms/step - loss: 0.2732 - accuracy: 0.9003 - val_loss: 0.3258 - val_accuracy: 0.8839\n",
            "Epoch 9/15\n",
            "96/96 [==============================] - 1s 7ms/step - loss: 0.2662 - accuracy: 0.9036 - val_loss: 0.3261 - val_accuracy: 0.8827\n",
            "Epoch 10/15\n",
            "96/96 [==============================] - 1s 7ms/step - loss: 0.2530 - accuracy: 0.9061 - val_loss: 0.3316 - val_accuracy: 0.8796\n",
            "Epoch 11/15\n",
            "96/96 [==============================] - 1s 9ms/step - loss: 0.2422 - accuracy: 0.9104 - val_loss: 0.3340 - val_accuracy: 0.8794\n",
            "Epoch 12/15\n",
            "96/96 [==============================] - 1s 8ms/step - loss: 0.2364 - accuracy: 0.9137 - val_loss: 0.3161 - val_accuracy: 0.8866\n",
            "Epoch 13/15\n",
            "96/96 [==============================] - 1s 8ms/step - loss: 0.2234 - accuracy: 0.9179 - val_loss: 0.3137 - val_accuracy: 0.8863\n",
            "Epoch 14/15\n",
            "96/96 [==============================] - 1s 8ms/step - loss: 0.2166 - accuracy: 0.9202 - val_loss: 0.3160 - val_accuracy: 0.8882\n",
            "Epoch 15/15\n",
            "96/96 [==============================] - 1s 8ms/step - loss: 0.2075 - accuracy: 0.9236 - val_loss: 0.3392 - val_accuracy: 0.8805\n",
            "313/313 [==============================] - 2s 4ms/step - loss: 0.3659 - accuracy: 0.8755\n"
          ]
        },
        {
          "output_type": "display_data",
          "data": {
            "text/plain": [
              "<Figure size 1600x700 with 0 Axes>"
            ]
          },
          "metadata": {}
        }
      ]
    },
    {
      "cell_type": "code",
      "source": [
        "# Predict on the first 10 test images.\n",
        "predictions = model2.predict(test_images[10:20])\n",
        "\n",
        "# Print our model's predictions.\n",
        "print(f'Predictions: {np.argmax(predictions, axis=1)}')\n",
        "\n",
        "# Check our predictions against the ground truths.\n",
        "print(f'True labels: {test_labels[10:20]}')"
      ],
      "metadata": {
        "colab": {
          "base_uri": "https://localhost:8080/"
        },
        "id": "i-_K5B4y5LQ1",
        "outputId": "3bd589c1-93ce-47d6-a021-d33bdff765e2"
      },
      "execution_count": 265,
      "outputs": [
        {
          "output_type": "stream",
          "name": "stdout",
          "text": [
            "1/1 [==============================] - 0s 85ms/step\n",
            "Predictions: [4 5 7 3 4 1 2 2 8 0]\n",
            "True labels: [4 5 7 3 4 1 2 4 8 0]\n"
          ]
        }
      ]
    },
    {
      "cell_type": "code",
      "source": [],
      "metadata": {
        "id": "q9r0RgNpqmpM"
      },
      "execution_count": 265,
      "outputs": []
    },
    {
      "cell_type": "markdown",
      "source": [
        "#Модель 5-слойной нейронной сети##"
      ],
      "metadata": {
        "id": "Ep94px-ufTVq"
      }
    },
    {
      "cell_type": "code",
      "source": [
        "# Build the model.\n",
        "\n",
        "plt.figure(figsize=(16,7))\n",
        "\n",
        "# число рабочих эпох\n",
        "epochs = 15\n",
        "# вектор для выводв результатов\n",
        "epoch = np.arange(epochs)\n",
        "def create_model(optimizer='adam'):\n",
        "      model5 = Sequential([\n",
        "      Dense(128, input_shape=(784,), activation='relu'),\n",
        "      Dense(256, activation='relu'),\n",
        "      Dense(128, activation='tanh'),\n",
        "      Dense(110, activation='sigmoid'),\n",
        "      Dense(64, activation='sigmoid'),\n",
        "      Dense(10, activation ='softmax'),\n",
        "    ])\n",
        "\n",
        "    # Compile the model.\n",
        "      model5.compile(\n",
        "      optimizer=optimizer,\n",
        "      loss='categorical_crossentropy',\n",
        "      metrics=['accuracy'],\n",
        "    )\n",
        "\n",
        "\n",
        "      return model5\n",
        "model5 = create_model()\n",
        "\n",
        "# Train the model\n",
        "history5 = model5.fit(\n",
        "          train_images,\n",
        "          to_categorical(train_labels,10),\n",
        "          epochs =15,\n",
        "          batch_size = 500, validation_split =0.2)\n",
        " #Evaluate the model\n",
        "test_scores5 = model5.evaluate(\n",
        "          test_images,\n",
        "          to_categorical(test_labels)\n",
        "      )\n",
        "\n",
        "# накопление результатов\n",
        "mod_name = f'5-слойная сеть'\n",
        "mod_accuracy = history5.history['accuracy'][epochs-1]\n",
        "mod_val_accuracy = history5.history['val_accuracy'][epochs-1]\n",
        "test_accuracy = test_scores5[1]\n",
        "result_dense.append([mod_name,mod_accuracy, mod_val_accuracy, test_accuracy])\n",
        ""
      ],
      "metadata": {
        "colab": {
          "base_uri": "https://localhost:8080/",
          "height": 572
        },
        "id": "Rk_DOMPefKWT",
        "outputId": "ca73c1be-662d-4e0d-932c-41445294a3cc"
      },
      "execution_count": 266,
      "outputs": [
        {
          "output_type": "stream",
          "name": "stdout",
          "text": [
            "Epoch 1/15\n",
            "96/96 [==============================] - 7s 13ms/step - loss: 1.3969 - accuracy: 0.6421 - val_loss: 0.7759 - val_accuracy: 0.7892\n",
            "Epoch 2/15\n",
            "96/96 [==============================] - 1s 7ms/step - loss: 0.6067 - accuracy: 0.8220 - val_loss: 0.4994 - val_accuracy: 0.8449\n",
            "Epoch 3/15\n",
            "96/96 [==============================] - 1s 9ms/step - loss: 0.4532 - accuracy: 0.8544 - val_loss: 0.4347 - val_accuracy: 0.8578\n",
            "Epoch 4/15\n",
            "96/96 [==============================] - 1s 8ms/step - loss: 0.3903 - accuracy: 0.8719 - val_loss: 0.4037 - val_accuracy: 0.8599\n",
            "Epoch 5/15\n",
            "96/96 [==============================] - 1s 12ms/step - loss: 0.3534 - accuracy: 0.8794 - val_loss: 0.3879 - val_accuracy: 0.8641\n",
            "Epoch 6/15\n",
            "96/96 [==============================] - 1s 8ms/step - loss: 0.3349 - accuracy: 0.8854 - val_loss: 0.3666 - val_accuracy: 0.8720\n",
            "Epoch 7/15\n",
            "96/96 [==============================] - 1s 10ms/step - loss: 0.3088 - accuracy: 0.8930 - val_loss: 0.3576 - val_accuracy: 0.8736\n",
            "Epoch 8/15\n",
            "96/96 [==============================] - 1s 11ms/step - loss: 0.2945 - accuracy: 0.8984 - val_loss: 0.3442 - val_accuracy: 0.8789\n",
            "Epoch 9/15\n",
            "96/96 [==============================] - 1s 13ms/step - loss: 0.2825 - accuracy: 0.9009 - val_loss: 0.3337 - val_accuracy: 0.8839\n",
            "Epoch 10/15\n",
            "96/96 [==============================] - 1s 9ms/step - loss: 0.2691 - accuracy: 0.9057 - val_loss: 0.3272 - val_accuracy: 0.8834\n",
            "Epoch 11/15\n",
            "96/96 [==============================] - 1s 9ms/step - loss: 0.2666 - accuracy: 0.9057 - val_loss: 0.3294 - val_accuracy: 0.8846\n",
            "Epoch 12/15\n",
            "96/96 [==============================] - 1s 9ms/step - loss: 0.2461 - accuracy: 0.9133 - val_loss: 0.3209 - val_accuracy: 0.8865\n",
            "Epoch 13/15\n",
            "96/96 [==============================] - 1s 9ms/step - loss: 0.2390 - accuracy: 0.9160 - val_loss: 0.3277 - val_accuracy: 0.8840\n",
            "Epoch 14/15\n",
            "96/96 [==============================] - 1s 12ms/step - loss: 0.2306 - accuracy: 0.9179 - val_loss: 0.3227 - val_accuracy: 0.8857\n",
            "Epoch 15/15\n",
            "96/96 [==============================] - 1s 11ms/step - loss: 0.2216 - accuracy: 0.9219 - val_loss: 0.3382 - val_accuracy: 0.8830\n",
            "313/313 [==============================] - 2s 5ms/step - loss: 0.3647 - accuracy: 0.8750\n"
          ]
        },
        {
          "output_type": "display_data",
          "data": {
            "text/plain": [
              "<Figure size 1600x700 with 0 Axes>"
            ]
          },
          "metadata": {}
        }
      ]
    },
    {
      "cell_type": "code",
      "source": [
        "# Predict on the first 10 test images.\n",
        "predictions = model5.predict(test_images[:10])\n",
        "\n",
        "# Print our model's predictions.\n",
        "print(f'Predictions: {np.argmax(predictions, axis=1)}')\n",
        "\n",
        "# Check our predictions against the ground truths.\n",
        "print(f'True labels: {test_labels[:10]}')\n"
      ],
      "metadata": {
        "colab": {
          "base_uri": "https://localhost:8080/"
        },
        "id": "R8uo5ftLfK_U",
        "outputId": "fd1262e7-590d-4a0b-fc3f-ef7957707fff"
      },
      "execution_count": 267,
      "outputs": [
        {
          "output_type": "stream",
          "name": "stdout",
          "text": [
            "1/1 [==============================] - 0s 115ms/step\n",
            "Predictions: [9 2 1 1 6 1 4 6 5 7]\n",
            "True labels: [9 2 1 1 6 1 4 6 5 7]\n"
          ]
        }
      ]
    },
    {
      "cell_type": "markdown",
      "source": [
        "##построение модели 10 - слойной нейронной сети##"
      ],
      "metadata": {
        "id": "elu1LaHQpFvN"
      }
    },
    {
      "cell_type": "code",
      "source": [
        "# Build the model.\n",
        "\n",
        "plt.figure(figsize=(16,7))\n",
        "\n",
        "# число рабочих эпох\n",
        "epochs = 15\n",
        "# вектор для выводв результатов\n",
        "epoch = np.arange(epochs)\n",
        "def create_model(optimizer='adam'):\n",
        "      model10 = Sequential([\n",
        "      Dense(128, input_shape=(784,), activation='relu'),\n",
        "      Dense(256, activation='relu'),\n",
        "      Dense(128, activation='tanh'),\n",
        "      Dense(110, activation='tanh'),\n",
        "      Dense(256, activation='sigmoid'),\n",
        "      Dense(10, activation ='softmax'),\n",
        "      Dense(256, activation='relu'),\n",
        "      Dense(128, activation='tanh'),\n",
        "      Dense(110, activation='tanh'),\n",
        "      Dense(128, activation='sigmoid'),\n",
        "      Dense(10, activation ='softmax'),\n",
        "    ])\n",
        "\n",
        "    # Compile the model.\n",
        "      model10.compile(\n",
        "      optimizer=optimizer,\n",
        "      loss='categorical_crossentropy',\n",
        "      metrics=['accuracy'],\n",
        "    )\n",
        "\n",
        "\n",
        "      return model10\n",
        "model10 = create_model()\n",
        "\n",
        "# Train the model\n",
        "history10 = model10.fit(\n",
        "          train_images,\n",
        "          to_categorical(train_labels,10),\n",
        "          epochs =15,\n",
        "          batch_size = 500, validation_split =0.2)\n",
        " #Evaluate the model\n",
        "test_scores10 = model5.evaluate(\n",
        "          test_images,\n",
        "          to_categorical(test_labels)\n",
        "      )\n",
        "\n",
        "# накопление результатов\n",
        "mod_name = f'10-слойная сеть'\n",
        "mod_accuracy = history10.history['accuracy'][epochs-1]\n",
        "mod_val_accuracy = history10.history['val_accuracy'][epochs-1]\n",
        "test_accuracy = test_scores10[1]\n",
        "result_dense.append([mod_name,mod_accuracy, mod_val_accuracy, test_accuracy])\n",
        ""
      ],
      "metadata": {
        "colab": {
          "base_uri": "https://localhost:8080/",
          "height": 572
        },
        "id": "eZXak1B2ova3",
        "outputId": "e249d49e-328a-43f6-c150-4e55bd53faaf"
      },
      "execution_count": 268,
      "outputs": [
        {
          "output_type": "stream",
          "name": "stdout",
          "text": [
            "Epoch 1/15\n",
            "96/96 [==============================] - 6s 10ms/step - loss: 1.8005 - accuracy: 0.2626 - val_loss: 1.3180 - val_accuracy: 0.3932\n",
            "Epoch 2/15\n",
            "96/96 [==============================] - 1s 7ms/step - loss: 1.0460 - accuracy: 0.5970 - val_loss: 0.8112 - val_accuracy: 0.7103\n",
            "Epoch 3/15\n",
            "96/96 [==============================] - 1s 7ms/step - loss: 0.7131 - accuracy: 0.7333 - val_loss: 0.6166 - val_accuracy: 0.7793\n",
            "Epoch 4/15\n",
            "96/96 [==============================] - 1s 6ms/step - loss: 0.5523 - accuracy: 0.8038 - val_loss: 0.5933 - val_accuracy: 0.7953\n",
            "Epoch 5/15\n",
            "96/96 [==============================] - 1s 6ms/step - loss: 0.4829 - accuracy: 0.8383 - val_loss: 0.4819 - val_accuracy: 0.8446\n",
            "Epoch 6/15\n",
            "96/96 [==============================] - 1s 6ms/step - loss: 0.4294 - accuracy: 0.8599 - val_loss: 0.4451 - val_accuracy: 0.8565\n",
            "Epoch 7/15\n",
            "96/96 [==============================] - 1s 6ms/step - loss: 0.3950 - accuracy: 0.8707 - val_loss: 0.4300 - val_accuracy: 0.8619\n",
            "Epoch 8/15\n",
            "96/96 [==============================] - 1s 7ms/step - loss: 0.3738 - accuracy: 0.8768 - val_loss: 0.4188 - val_accuracy: 0.8618\n",
            "Epoch 9/15\n",
            "96/96 [==============================] - 1s 6ms/step - loss: 0.3619 - accuracy: 0.8812 - val_loss: 0.4053 - val_accuracy: 0.8660\n",
            "Epoch 10/15\n",
            "96/96 [==============================] - 1s 6ms/step - loss: 0.3321 - accuracy: 0.8916 - val_loss: 0.4070 - val_accuracy: 0.8698\n",
            "Epoch 11/15\n",
            "96/96 [==============================] - 1s 7ms/step - loss: 0.3241 - accuracy: 0.8920 - val_loss: 0.3804 - val_accuracy: 0.8796\n",
            "Epoch 12/15\n",
            "96/96 [==============================] - 1s 7ms/step - loss: 0.3087 - accuracy: 0.8955 - val_loss: 0.3869 - val_accuracy: 0.8789\n",
            "Epoch 13/15\n",
            "96/96 [==============================] - 1s 7ms/step - loss: 0.2908 - accuracy: 0.9015 - val_loss: 0.3739 - val_accuracy: 0.8799\n",
            "Epoch 14/15\n",
            "96/96 [==============================] - 1s 8ms/step - loss: 0.2780 - accuracy: 0.9053 - val_loss: 0.3668 - val_accuracy: 0.8817\n",
            "Epoch 15/15\n",
            "96/96 [==============================] - 1s 9ms/step - loss: 0.2722 - accuracy: 0.9060 - val_loss: 0.3673 - val_accuracy: 0.8803\n",
            "313/313 [==============================] - 1s 3ms/step - loss: 0.3647 - accuracy: 0.8750\n"
          ]
        },
        {
          "output_type": "display_data",
          "data": {
            "text/plain": [
              "<Figure size 1600x700 with 0 Axes>"
            ]
          },
          "metadata": {}
        }
      ]
    },
    {
      "cell_type": "code",
      "source": [
        "# Predict on the first 10 test images.\n",
        "predictions = model10.predict(test_images[10:20])\n",
        "\n",
        "# Print our model's predictions.\n",
        "print(f'Predictions: {np.argmax(predictions, axis=1)}')\n",
        "\n",
        "# Check our predictions against the ground truths.\n",
        "print(f'True labels: {test_labels[10:20]}')"
      ],
      "metadata": {
        "colab": {
          "base_uri": "https://localhost:8080/"
        },
        "id": "GOxvqne25R3j",
        "outputId": "2931a553-630a-4b77-e460-38d9c9f68bf3"
      },
      "execution_count": 269,
      "outputs": [
        {
          "output_type": "stream",
          "name": "stdout",
          "text": [
            "1/1 [==============================] - 0s 104ms/step\n",
            "Predictions: [4 5 5 3 4 1 2 2 8 0]\n",
            "True labels: [4 5 7 3 4 1 2 4 8 0]\n"
          ]
        }
      ]
    },
    {
      "cell_type": "code",
      "source": [
        "plt.figure(figsize=(16, 8))\n",
        "\n",
        "plt.plot(history2.history['loss'],'-', label='2-слойная модель train')\n",
        "plt.plot(history2.history['val_loss'],'--', label='2-слойная модель val')\n",
        "plt.plot(history3.history['loss'],'-', label='3-слойная модель train')\n",
        "plt.plot(history3.history['val_loss'],'--', label='3-слойная модель val')\n",
        "plt.plot(history5.history['loss'],'-', label='5-слойная модель train')\n",
        "plt.plot(history5.history['val_loss'],'--', label='5-слойная модель val')\n",
        "plt.plot(history10.history['loss'],'-', label='10-слойная модель train')\n",
        "plt.plot(history10.history['val_loss'],'--', label='10-слойная модель val')\n",
        "plt.xlabel('эпох')\n",
        "plt.ylabel('loss')\n",
        "plt.legend()\n",
        "plt.grid('On')\n",
        "plt.title('Потери от эпох')"
      ],
      "metadata": {
        "colab": {
          "base_uri": "https://localhost:8080/",
          "height": 625
        },
        "id": "dMlCftjeqR3g",
        "outputId": "56cdc1b9-af28-4b12-c95f-76984fd9969e"
      },
      "execution_count": 270,
      "outputs": [
        {
          "output_type": "execute_result",
          "data": {
            "text/plain": [
              "Text(0.5, 1.0, 'Потери от эпох')"
            ]
          },
          "metadata": {},
          "execution_count": 270
        },
        {
          "output_type": "display_data",
          "data": {
            "text/plain": [
              "<Figure size 1600x800 with 1 Axes>"
            ],
            "image/png": "[encoded data removed]"
          },
          "metadata": {}
        }
      ]
    },
    {
      "cell_type": "code",
      "source": [
        "plt.figure(figsize=(16, 8))\n",
        "\n",
        "plt.plot(history2.history['accuracy'],'-', label='2-слойная модель train')\n",
        "plt.plot(history2.history['val_accuracy'],'--', label='2-слойная модель val')\n",
        "plt.plot(history3.history['accuracy'],'-', label='3-слойная модель train')\n",
        "plt.plot(history3.history['val_accuracy'],'--', label='3-слойная модель val')\n",
        "plt.plot(history5.history['accuracy'],'-', label='5-слойная модель train')\n",
        "plt.plot(history5.history['val_accuracy'],'--', label='5-слойная модель val')\n",
        "plt.plot(history10.history['accuracy'],'-', label='10-слойная модель train')\n",
        "plt.plot(history10.history['val_accuracy'],'--', label='10-слойная модель val')\n",
        "plt.xlabel('эпох')\n",
        "plt.ylabel('accuracy')\n",
        "plt.legend()\n",
        "plt.grid('On')\n",
        "plt.title('Accuracy от эпох')"
      ],
      "metadata": {
        "colab": {
          "base_uri": "https://localhost:8080/",
          "height": 625
        },
        "id": "QzIhOZfZrzdd",
        "outputId": "1abad7bb-fbdc-4929-dcee-78c5d8554932"
      },
      "execution_count": 271,
      "outputs": [
        {
          "output_type": "execute_result",
          "data": {
            "text/plain": [
              "Text(0.5, 1.0, 'Accuracy от эпох')"
            ]
          },
          "metadata": {},
          "execution_count": 271
        },
        {
          "output_type": "display_data",
          "data": {
            "text/plain": [
              "<Figure size 1600x800 with 1 Axes>"
            ],
            "image/png": "[encoded data removed]"
          },
          "metadata": {}
        }
      ]
    },
    {
      "cell_type": "code",
      "source": [
        "# Оценка accuracy\n",
        "pd.DataFrame(result_dense, columns=['mod_name','mod_accuracy','mod_val_accuracy', 'test_accuracy']).sort_values('mod_val_accuracy',ascending=False)"
      ],
      "metadata": {
        "colab": {
          "base_uri": "https://localhost:8080/",
          "height": 174
        },
        "id": "b-XbLqcMr5SS",
        "outputId": "b1aa634b-24e5-4d45-bbea-53e79e0e6b6b"
      },
      "execution_count": 272,
      "outputs": [
        {
          "output_type": "execute_result",
          "data": {
            "text/plain": [
              "          mod_name  mod_accuracy  mod_val_accuracy  test_accuracy\n",
              "0   2-слойная сеть      0.925396          0.887250         0.8791\n",
              "2   5-слойная сеть      0.921896          0.883000         0.8750\n",
              "1   2-слойная сеть      0.923646          0.880500         0.8755\n",
              "3  10-слойная сеть      0.906021          0.880333         0.8750"
            ],
            "text/html": [
              "\n",
              "  <div id=\"df-d75900b3-b4b4-485e-bd11-8db224b78fd6\" class=\"colab-df-container\">\n",
              "    <div>\n",
              "<style scoped>\n",
              "    .dataframe tbody tr th:only-of-type {\n",
              "        vertical-align: middle;\n",
              "    }\n",
              "\n",
              "    .dataframe tbody tr th {\n",
              "        vertical-align: top;\n",
              "    }\n",
              "\n",
              "    .dataframe thead th {\n",
              "        text-align: right;\n",
              "    }\n",
              "</style>\n",
              "<table border=\"1\" class=\"dataframe\">\n",
              "  <thead>\n",
              "    <tr style=\"text-align: right;\">\n",
              "      <th></th>\n",
              "      <th>mod_name</th>\n",
              "      <th>mod_accuracy</th>\n",
              "      <th>mod_val_accuracy</th>\n",
              "      <th>test_accuracy</th>\n",
              "    </tr>\n",
              "  </thead>\n",
              "  <tbody>\n",
              "    <tr>\n",
              "      <th>0</th>\n",
              "      <td>2-слойная сеть</td>\n",
              "      <td>0.925396</td>\n",
              "      <td>0.887250</td>\n",
              "      <td>0.8791</td>\n",
              "    </tr>\n",
              "    <tr>\n",
              "      <th>2</th>\n",
              "      <td>5-слойная сеть</td>\n",
              "      <td>0.921896</td>\n",
              "      <td>0.883000</td>\n",
              "      <td>0.8750</td>\n",
              "    </tr>\n",
              "    <tr>\n",
              "      <th>1</th>\n",
              "      <td>2-слойная сеть</td>\n",
              "      <td>0.923646</td>\n",
              "      <td>0.880500</td>\n",
              "      <td>0.8755</td>\n",
              "    </tr>\n",
              "    <tr>\n",
              "      <th>3</th>\n",
              "      <td>10-слойная сеть</td>\n",
              "      <td>0.906021</td>\n",
              "      <td>0.880333</td>\n",
              "      <td>0.8750</td>\n",
              "    </tr>\n",
              "  </tbody>\n",
              "</table>\n",
              "</div>\n",
              "    <div class=\"colab-df-buttons\">\n",
              "\n",
              "  <div class=\"colab-df-container\">\n",
              "    <button class=\"colab-df-convert\" onclick=\"convertToInteractive('df-d75900b3-b4b4-485e-bd11-8db224b78fd6')\"\n",
              "            title=\"Convert this dataframe to an interactive table.\"\n",
              "            style=\"display:none;\">\n",
              "\n",
              "  <svg xmlns=\"http://www.w3.org/2000/svg\" height=\"24px\" viewBox=\"0 -960 960 960\">\n",
              "    <path d=\"M120-120v-720h720v720H120Zm60-500h600v-160H180v160Zm220 220h160v-160H400v160Zm0 220h160v-160H400v160ZM180-400h160v-160H180v160Zm440 0h160v-160H620v160ZM180-180h160v-160H180v160Zm440 0h160v-160H620v160Z\"/>\n",
              "  </svg>\n",
              "    </button>\n",
              "\n",
              "  <style>\n",
              "    .colab-df-container {\n",
              "      display:flex;\n",
              "      gap: 12px;\n",
              "    }\n",
              "\n",
              "    .colab-df-convert {\n",
              "      background-color: #E8F0FE;\n",
              "      border: none;\n",
              "      border-radius: 50%;\n",
              "      cursor: pointer;\n",
              "      display: none;\n",
              "      fill: #1967D2;\n",
              "      height: 32px;\n",
              "      padding: 0 0 0 0;\n",
              "      width: 32px;\n",
              "    }\n",
              "\n",
              "    .colab-df-convert:hover {\n",
              "      background-color: #E2EBFA;\n",
              "      box-shadow: 0px 1px 2px rgba(60, 64, 67, 0.3), 0px 1px 3px 1px rgba(60, 64, 67, 0.15);\n",
              "      fill: #174EA6;\n",
              "    }\n",
              "\n",
              "    .colab-df-buttons div {\n",
              "      margin-bottom: 4px;\n",
              "    }\n",
              "\n",
              "    [theme=dark] .colab-df-convert {\n",
              "      background-color: #3B4455;\n",
              "      fill: #D2E3FC;\n",
              "    }\n",
              "\n",
              "    [theme=dark] .colab-df-convert:hover {\n",
              "      background-color: #434B5C;\n",
              "      box-shadow: 0px 1px 3px 1px rgba(0, 0, 0, 0.15);\n",
              "      filter: drop-shadow(0px 1px 2px rgba(0, 0, 0, 0.3));\n",
              "      fill: #FFFFFF;\n",
              "    }\n",
              "  </style>\n",
              "\n",
              "    <script>\n",
              "      const buttonEl =\n",
              "        document.querySelector('#df-d75900b3-b4b4-485e-bd11-8db224b78fd6 button.colab-df-convert');\n",
              "      buttonEl.style.display =\n",
              "        google.colab.kernel.accessAllowed ? 'block' : 'none';\n",
              "\n",
              "      async function convertToInteractive(key) {\n",
              "        const element = document.querySelector('#df-d75900b3-b4b4-485e-bd11-8db224b78fd6');\n",
              "        const dataTable =\n",
              "          await google.colab.kernel.invokeFunction('convertToInteractive',\n",
              "                                                    [key], {});\n",
              "        if (!dataTable) return;\n",
              "\n",
              "        const docLinkHtml = 'Like what you see? Visit the ' +\n",
              "          '<a target=\"_blank\" href=https://colab.research.google.com/notebooks/data_table.ipynb>data table notebook</a>'\n",
              "          + ' to learn more about interactive tables.';\n",
              "        element.innerHTML = '';\n",
              "        dataTable['output_type'] = 'display_data';\n",
              "        await google.colab.output.renderOutput(dataTable, element);\n",
              "        const docLink = document.createElement('div');\n",
              "        docLink.innerHTML = docLinkHtml;\n",
              "        element.appendChild(docLink);\n",
              "      }\n",
              "    </script>\n",
              "  </div>\n",
              "\n",
              "    </div>\n",
              "  </div>\n"
            ]
          },
          "metadata": {},
          "execution_count": 272
        }
      ]
    },
    {
      "cell_type": "markdown",
      "source": [
        "\n",
        "\n",
        "**В 2-лойной нейронной сети очевидным образом точность выше, судя по проведенным экспериментам, следовательно ее необходимо взять для исследования оптимизаторов.**"
      ],
      "metadata": {
        "id": "d_CGV8gdsOQR"
      }
    },
    {
      "cell_type": "code",
      "source": [
        "stop = keras.callbacks.EarlyStopping(monitor='val_loss', verbose=1, patience=6) #если функция потерь не изменяется в течение 6 эпох,-ранняя остановка"
      ],
      "metadata": {
        "id": "uS2sH10NGy7S"
      },
      "execution_count": 273,
      "outputs": []
    },
    {
      "cell_type": "markdown",
      "source": [
        "##Picking params via GridSearchCV##\n"
      ],
      "metadata": {
        "id": "3c1FUM5PIBvC"
      }
    },
    {
      "cell_type": "code",
      "source": [
        "# Build the model.создание архитектуры нейронной сети\n",
        "def create_model(optimizer=Adam):\n",
        "    model = Sequential([\n",
        "      Dense(64, input_shape=(784,), activation='relu'), #64 neurons\n",
        "      Dense(32, activation='relu'),\n",
        "      Dense(10, activation='softmax') #softmax ~ sigmoid - max probability\n",
        "    ])\n",
        "\n",
        "    # Compile the model.\n",
        "    model.compile(\n",
        "      optimizer=optimizer(learning_rate = 0.00024),\n",
        "      loss='categorical_crossentropy',\n",
        "      metrics=['accuracy'],\n",
        "    )\n",
        "    return model"
      ],
      "metadata": {
        "id": "xDBV7QjsEs6q"
      },
      "execution_count": 274,
      "outputs": []
    },
    {
      "cell_type": "code",
      "source": [
        "model= KerasClassifier(create_model)\n",
        "params= {\"batch_size\": [1000,5000], \"epochs\": [5,10], \"optimizer\": ['SGD', 'RMSprop', 'Adam']}\n",
        "grid = GridSearchCV(model, params, refit=False, cv=3, scoring='accuracy')\n",
        "\n",
        "grid_result = grid.fit(train_images, y_train)\n",
        "\n",
        "print(grid_result.best_score_, grid_result.best_params_)"
      ],
      "metadata": {
        "colab": {
          "base_uri": "https://localhost:8080/"
        },
        "id": "tRfx8xxPr-PU",
        "outputId": "2f8913b7-86bb-43da-a9d7-be8efba16fc3"
      },
      "execution_count": 276,
      "outputs": [
        {
          "output_type": "stream",
          "name": "stdout",
          "text": [
            "Epoch 1/5\n",
            "40/40 [==============================] - 1s 4ms/step - loss: 1.6969 - accuracy: 0.4460\n",
            "Epoch 2/5\n",
            "40/40 [==============================] - 0s 3ms/step - loss: 0.9123 - accuracy: 0.7143\n",
            "Epoch 3/5\n",
            "40/40 [==============================] - 0s 4ms/step - loss: 0.6752 - accuracy: 0.7666\n",
            "Epoch 4/5\n",
            "40/40 [==============================] - 0s 4ms/step - loss: 0.5872 - accuracy: 0.7943\n",
            "Epoch 5/5\n",
            "40/40 [==============================] - 0s 4ms/step - loss: 0.5405 - accuracy: 0.8098\n",
            "20/20 [==============================] - 0s 3ms/step\n",
            "Epoch 1/5\n",
            "40/40 [==============================] - 1s 4ms/step - loss: 1.6938 - accuracy: 0.4444\n",
            "Epoch 2/5\n",
            "40/40 [==============================] - 0s 3ms/step - loss: 0.9000 - accuracy: 0.7095\n",
            "Epoch 3/5\n",
            "40/40 [==============================] - 0s 4ms/step - loss: 0.6606 - accuracy: 0.7731\n",
            "Epoch 4/5\n",
            "40/40 [==============================] - 0s 4ms/step - loss: 0.5784 - accuracy: 0.7939\n",
            "Epoch 5/5\n",
            "40/40 [==============================] - 0s 4ms/step - loss: 0.5356 - accuracy: 0.8101\n",
            "20/20 [==============================] - 0s 2ms/step\n",
            "Epoch 1/5\n",
            "40/40 [==============================] - 1s 7ms/step - loss: 1.8743 - accuracy: 0.3739\n",
            "Epoch 2/5\n",
            "40/40 [==============================] - 0s 7ms/step - loss: 1.0278 - accuracy: 0.6926\n",
            "Epoch 3/5\n",
            "40/40 [==============================] - 0s 6ms/step - loss: 0.7183 - accuracy: 0.7573\n",
            "Epoch 4/5\n",
            "40/40 [==============================] - 0s 5ms/step - loss: 0.6177 - accuracy: 0.7849\n",
            "Epoch 5/5\n",
            "40/40 [==============================] - 0s 5ms/step - loss: 0.5634 - accuracy: 0.8014\n",
            "20/20 [==============================] - 0s 3ms/step\n",
            "Epoch 1/5\n",
            "40/40 [==============================] - 1s 4ms/step - loss: 1.6714 - accuracy: 0.4308\n",
            "Epoch 2/5\n",
            "40/40 [==============================] - 0s 4ms/step - loss: 0.9267 - accuracy: 0.7163\n",
            "Epoch 3/5\n",
            "40/40 [==============================] - 0s 4ms/step - loss: 0.6738 - accuracy: 0.7743\n",
            "Epoch 4/5\n",
            "40/40 [==============================] - 0s 3ms/step - loss: 0.5831 - accuracy: 0.8006\n",
            "Epoch 5/5\n",
            "40/40 [==============================] - 0s 4ms/step - loss: 0.5344 - accuracy: 0.8166\n",
            "20/20 [==============================] - 0s 2ms/step\n",
            "Epoch 1/5\n",
            "40/40 [==============================] - 1s 4ms/step - loss: 1.7430 - accuracy: 0.4387\n",
            "Epoch 2/5\n",
            "40/40 [==============================] - 0s 4ms/step - loss: 0.9094 - accuracy: 0.7135\n",
            "Epoch 3/5\n",
            "40/40 [==============================] - 0s 4ms/step - loss: 0.6905 - accuracy: 0.7598\n",
            "Epoch 4/5\n",
            "40/40 [==============================] - 0s 4ms/step - loss: 0.6055 - accuracy: 0.7850\n",
            "Epoch 5/5\n",
            "40/40 [==============================] - 0s 4ms/step - loss: 0.5535 - accuracy: 0.8031\n",
            "20/20 [==============================] - 0s 2ms/step\n",
            "Epoch 1/5\n",
            "40/40 [==============================] - 1s 4ms/step - loss: 1.7859 - accuracy: 0.3984\n",
            "Epoch 2/5\n",
            "40/40 [==============================] - 0s 4ms/step - loss: 0.8854 - accuracy: 0.7148\n",
            "Epoch 3/5\n",
            "40/40 [==============================] - 0s 4ms/step - loss: 0.6520 - accuracy: 0.7724\n",
            "Epoch 4/5\n",
            "40/40 [==============================] - 0s 4ms/step - loss: 0.5739 - accuracy: 0.8005\n",
            "Epoch 5/5\n",
            "40/40 [==============================] - 0s 4ms/step - loss: 0.5308 - accuracy: 0.8145\n",
            "20/20 [==============================] - 0s 2ms/step\n",
            "Epoch 1/5\n",
            "40/40 [==============================] - 1s 4ms/step - loss: 1.6816 - accuracy: 0.4344\n",
            "Epoch 2/5\n",
            "40/40 [==============================] - 0s 4ms/step - loss: 0.9233 - accuracy: 0.6997\n",
            "Epoch 3/5\n",
            "40/40 [==============================] - 0s 4ms/step - loss: 0.6783 - accuracy: 0.7689\n",
            "Epoch 4/5\n",
            "40/40 [==============================] - 0s 4ms/step - loss: 0.5836 - accuracy: 0.7982\n",
            "Epoch 5/5\n",
            "40/40 [==============================] - 0s 3ms/step - loss: 0.5347 - accuracy: 0.8130\n",
            "20/20 [==============================] - 0s 2ms/step\n",
            "Epoch 1/5\n",
            "40/40 [==============================] - 1s 5ms/step - loss: 1.7083 - accuracy: 0.4491\n",
            "Epoch 2/5\n",
            "40/40 [==============================] - 0s 5ms/step - loss: 0.9235 - accuracy: 0.7121\n",
            "Epoch 3/5\n",
            "40/40 [==============================] - 0s 4ms/step - loss: 0.6929 - accuracy: 0.7628\n",
            "Epoch 4/5\n",
            "40/40 [==============================] - 0s 5ms/step - loss: 0.5995 - accuracy: 0.7904\n",
            "Epoch 5/5\n",
            "40/40 [==============================] - 0s 5ms/step - loss: 0.5497 - accuracy: 0.8053\n",
            "20/20 [==============================] - 0s 4ms/step\n",
            "Epoch 1/5\n",
            "40/40 [==============================] - 1s 4ms/step - loss: 1.7117 - accuracy: 0.4426\n",
            "Epoch 2/5\n",
            "40/40 [==============================] - 0s 4ms/step - loss: 0.9289 - accuracy: 0.7157\n",
            "Epoch 3/5\n",
            "40/40 [==============================] - 0s 4ms/step - loss: 0.6944 - accuracy: 0.7631\n",
            "Epoch 4/5\n",
            "40/40 [==============================] - 0s 4ms/step - loss: 0.6045 - accuracy: 0.7896\n",
            "Epoch 5/5\n",
            "40/40 [==============================] - 0s 4ms/step - loss: 0.5534 - accuracy: 0.8053\n",
            "20/20 [==============================] - 0s 3ms/step\n",
            "Epoch 1/10\n",
            "40/40 [==============================] - 1s 4ms/step - loss: 1.7012 - accuracy: 0.4675\n",
            "Epoch 2/10\n",
            "40/40 [==============================] - 0s 4ms/step - loss: 0.9165 - accuracy: 0.7132\n",
            "Epoch 3/10\n",
            "40/40 [==============================] - 0s 4ms/step - loss: 0.6672 - accuracy: 0.7716\n",
            "Epoch 4/10\n",
            "40/40 [==============================] - 0s 3ms/step - loss: 0.5784 - accuracy: 0.8011\n",
            "Epoch 5/10\n",
            "40/40 [==============================] - 0s 4ms/step - loss: 0.5290 - accuracy: 0.8164\n",
            "Epoch 6/10\n",
            "40/40 [==============================] - 0s 4ms/step - loss: 0.4956 - accuracy: 0.8274\n",
            "Epoch 7/10\n",
            "40/40 [==============================] - 0s 4ms/step - loss: 0.4720 - accuracy: 0.8340\n",
            "Epoch 8/10\n",
            "40/40 [==============================] - 0s 4ms/step - loss: 0.4526 - accuracy: 0.8418\n",
            "Epoch 9/10\n",
            "40/40 [==============================] - 0s 4ms/step - loss: 0.4378 - accuracy: 0.8457\n",
            "Epoch 10/10\n",
            "40/40 [==============================] - 0s 3ms/step - loss: 0.4253 - accuracy: 0.8515\n",
            "20/20 [==============================] - 0s 3ms/step\n",
            "Epoch 1/10\n",
            "40/40 [==============================] - 1s 4ms/step - loss: 1.7867 - accuracy: 0.3691\n",
            "Epoch 2/10\n",
            "40/40 [==============================] - 0s 4ms/step - loss: 0.9230 - accuracy: 0.7082\n",
            "Epoch 3/10\n",
            "40/40 [==============================] - 0s 4ms/step - loss: 0.6780 - accuracy: 0.7667\n",
            "Epoch 4/10\n",
            "40/40 [==============================] - 0s 4ms/step - loss: 0.5920 - accuracy: 0.7926\n",
            "Epoch 5/10\n",
            "40/40 [==============================] - 0s 4ms/step - loss: 0.5442 - accuracy: 0.8112\n",
            "Epoch 6/10\n",
            "40/40 [==============================] - 0s 4ms/step - loss: 0.5128 - accuracy: 0.8202\n",
            "Epoch 7/10\n",
            "40/40 [==============================] - 0s 4ms/step - loss: 0.4892 - accuracy: 0.8290\n",
            "Epoch 8/10\n",
            "40/40 [==============================] - 0s 4ms/step - loss: 0.4724 - accuracy: 0.8332\n",
            "Epoch 9/10\n",
            "40/40 [==============================] - 0s 4ms/step - loss: 0.4574 - accuracy: 0.8394\n",
            "Epoch 10/10\n",
            "40/40 [==============================] - 0s 4ms/step - loss: 0.4446 - accuracy: 0.8429\n",
            "20/20 [==============================] - 0s 2ms/step\n",
            "Epoch 1/10\n",
            "40/40 [==============================] - 1s 4ms/step - loss: 1.7803 - accuracy: 0.3962\n",
            "Epoch 2/10\n",
            "40/40 [==============================] - 0s 5ms/step - loss: 0.9980 - accuracy: 0.6804\n",
            "Epoch 3/10\n",
            "40/40 [==============================] - 0s 5ms/step - loss: 0.7407 - accuracy: 0.7527\n",
            "Epoch 4/10\n",
            "40/40 [==============================] - 0s 6ms/step - loss: 0.6285 - accuracy: 0.7833\n",
            "Epoch 5/10\n",
            "40/40 [==============================] - 0s 6ms/step - loss: 0.5681 - accuracy: 0.8027\n",
            "Epoch 6/10\n",
            "40/40 [==============================] - 0s 6ms/step - loss: 0.5294 - accuracy: 0.8154\n",
            "Epoch 7/10\n",
            "40/40 [==============================] - 0s 5ms/step - loss: 0.5015 - accuracy: 0.8252\n",
            "Epoch 8/10\n",
            "40/40 [==============================] - 0s 5ms/step - loss: 0.4827 - accuracy: 0.8310\n",
            "Epoch 9/10\n",
            "40/40 [==============================] - 0s 5ms/step - loss: 0.4668 - accuracy: 0.8368\n",
            "Epoch 10/10\n",
            "40/40 [==============================] - 0s 4ms/step - loss: 0.4531 - accuracy: 0.8416\n",
            "20/20 [==============================] - 0s 2ms/step\n",
            "Epoch 1/10\n",
            "40/40 [==============================] - 1s 4ms/step - loss: 1.7280 - accuracy: 0.4235\n",
            "Epoch 2/10\n",
            "40/40 [==============================] - 0s 4ms/step - loss: 0.9709 - accuracy: 0.7016\n",
            "Epoch 3/10\n",
            "40/40 [==============================] - 0s 4ms/step - loss: 0.7313 - accuracy: 0.7564\n",
            "Epoch 4/10\n",
            "40/40 [==============================] - 0s 3ms/step - loss: 0.6265 - accuracy: 0.7873\n",
            "Epoch 5/10\n",
            "40/40 [==============================] - 0s 3ms/step - loss: 0.5694 - accuracy: 0.8045\n",
            "Epoch 6/10\n",
            "40/40 [==============================] - 0s 4ms/step - loss: 0.5326 - accuracy: 0.8151\n",
            "Epoch 7/10\n",
            "40/40 [==============================] - 0s 4ms/step - loss: 0.5062 - accuracy: 0.8238\n",
            "Epoch 8/10\n",
            "40/40 [==============================] - 0s 4ms/step - loss: 0.4852 - accuracy: 0.8309\n",
            "Epoch 9/10\n",
            "40/40 [==============================] - 0s 4ms/step - loss: 0.4697 - accuracy: 0.8342\n",
            "Epoch 10/10\n",
            "40/40 [==============================] - 0s 4ms/step - loss: 0.4548 - accuracy: 0.8405\n",
            "20/20 [==============================] - 0s 3ms/step\n",
            "Epoch 1/10\n",
            "40/40 [==============================] - 1s 4ms/step - loss: 1.6054 - accuracy: 0.4827\n",
            "Epoch 2/10\n",
            "40/40 [==============================] - 0s 4ms/step - loss: 0.9424 - accuracy: 0.7089\n",
            "Epoch 3/10\n",
            "40/40 [==============================] - 0s 4ms/step - loss: 0.6885 - accuracy: 0.7710\n",
            "Epoch 4/10\n",
            "40/40 [==============================] - 0s 4ms/step - loss: 0.5897 - accuracy: 0.7967\n",
            "Epoch 5/10\n",
            "40/40 [==============================] - 0s 4ms/step - loss: 0.5379 - accuracy: 0.8131\n",
            "Epoch 6/10\n",
            "40/40 [==============================] - 0s 4ms/step - loss: 0.5028 - accuracy: 0.8233\n",
            "Epoch 7/10\n",
            "40/40 [==============================] - 0s 4ms/step - loss: 0.4774 - accuracy: 0.8317\n",
            "Epoch 8/10\n",
            "40/40 [==============================] - 0s 4ms/step - loss: 0.4596 - accuracy: 0.8377\n",
            "Epoch 9/10\n",
            "40/40 [==============================] - 0s 4ms/step - loss: 0.4430 - accuracy: 0.8440\n",
            "Epoch 10/10\n",
            "40/40 [==============================] - 0s 4ms/step - loss: 0.4293 - accuracy: 0.8485\n",
            "20/20 [==============================] - 0s 3ms/step\n",
            "Epoch 1/10\n",
            "40/40 [==============================] - 1s 4ms/step - loss: 1.7165 - accuracy: 0.4189\n",
            "Epoch 2/10\n",
            "40/40 [==============================] - 0s 4ms/step - loss: 0.8988 - accuracy: 0.7029\n",
            "Epoch 3/10\n",
            "40/40 [==============================] - 0s 4ms/step - loss: 0.6745 - accuracy: 0.7652\n",
            "Epoch 4/10\n",
            "40/40 [==============================] - 0s 4ms/step - loss: 0.5897 - accuracy: 0.7939\n",
            "Epoch 5/10\n",
            "40/40 [==============================] - 0s 4ms/step - loss: 0.5369 - accuracy: 0.8133\n",
            "Epoch 6/10\n",
            "40/40 [==============================] - 0s 4ms/step - loss: 0.5032 - accuracy: 0.8242\n",
            "Epoch 7/10\n",
            "40/40 [==============================] - 0s 4ms/step - loss: 0.4801 - accuracy: 0.8326\n",
            "Epoch 8/10\n",
            "40/40 [==============================] - 0s 5ms/step - loss: 0.4627 - accuracy: 0.8378\n",
            "Epoch 9/10\n",
            "40/40 [==============================] - 0s 6ms/step - loss: 0.4463 - accuracy: 0.8441\n",
            "Epoch 10/10\n",
            "40/40 [==============================] - 0s 5ms/step - loss: 0.4342 - accuracy: 0.8486\n",
            "20/20 [==============================] - 0s 4ms/step\n",
            "Epoch 1/10\n",
            "40/40 [==============================] - 1s 4ms/step - loss: 1.6514 - accuracy: 0.4492\n",
            "Epoch 2/10\n",
            "40/40 [==============================] - 0s 4ms/step - loss: 0.8643 - accuracy: 0.7132\n",
            "Epoch 3/10\n",
            "40/40 [==============================] - 0s 4ms/step - loss: 0.6706 - accuracy: 0.7675\n",
            "Epoch 4/10\n",
            "40/40 [==============================] - 0s 4ms/step - loss: 0.5892 - accuracy: 0.7961\n",
            "Epoch 5/10\n",
            "40/40 [==============================] - 0s 4ms/step - loss: 0.5426 - accuracy: 0.8102\n",
            "Epoch 6/10\n",
            "40/40 [==============================] - 0s 4ms/step - loss: 0.5106 - accuracy: 0.8224\n",
            "Epoch 7/10\n",
            "40/40 [==============================] - 0s 3ms/step - loss: 0.4875 - accuracy: 0.8303\n",
            "Epoch 8/10\n",
            "40/40 [==============================] - 0s 4ms/step - loss: 0.4695 - accuracy: 0.8362\n",
            "Epoch 9/10\n",
            "40/40 [==============================] - 0s 4ms/step - loss: 0.4549 - accuracy: 0.8413\n",
            "Epoch 10/10\n",
            "40/40 [==============================] - 0s 4ms/step - loss: 0.4418 - accuracy: 0.8450\n",
            "20/20 [==============================] - 0s 2ms/step\n",
            "Epoch 1/10\n",
            "40/40 [==============================] - 1s 4ms/step - loss: 1.7375 - accuracy: 0.4488\n",
            "Epoch 2/10\n",
            "40/40 [==============================] - 0s 4ms/step - loss: 1.0409 - accuracy: 0.6759\n",
            "Epoch 3/10\n",
            "40/40 [==============================] - 0s 4ms/step - loss: 0.7474 - accuracy: 0.7474\n",
            "Epoch 4/10\n",
            "40/40 [==============================] - 0s 4ms/step - loss: 0.6154 - accuracy: 0.7863\n",
            "Epoch 5/10\n",
            "40/40 [==============================] - 0s 4ms/step - loss: 0.5562 - accuracy: 0.8055\n",
            "Epoch 6/10\n",
            "40/40 [==============================] - 0s 4ms/step - loss: 0.5195 - accuracy: 0.8171\n",
            "Epoch 7/10\n",
            "40/40 [==============================] - 0s 4ms/step - loss: 0.4932 - accuracy: 0.8263\n",
            "Epoch 8/10\n",
            "40/40 [==============================] - 0s 4ms/step - loss: 0.4731 - accuracy: 0.8332\n",
            "Epoch 9/10\n",
            "40/40 [==============================] - 0s 4ms/step - loss: 0.4573 - accuracy: 0.8376\n",
            "Epoch 10/10\n",
            "40/40 [==============================] - 0s 4ms/step - loss: 0.4429 - accuracy: 0.8433\n",
            "20/20 [==============================] - 0s 3ms/step\n",
            "Epoch 1/10\n",
            "40/40 [==============================] - 1s 4ms/step - loss: 1.7641 - accuracy: 0.4191\n",
            "Epoch 2/10\n",
            "40/40 [==============================] - 0s 4ms/step - loss: 0.9750 - accuracy: 0.6983\n",
            "Epoch 3/10\n",
            "40/40 [==============================] - 0s 4ms/step - loss: 0.7023 - accuracy: 0.7642\n",
            "Epoch 4/10\n",
            "40/40 [==============================] - 0s 4ms/step - loss: 0.5974 - accuracy: 0.7958\n",
            "Epoch 5/10\n",
            "40/40 [==============================] - 0s 4ms/step - loss: 0.5444 - accuracy: 0.8136\n",
            "Epoch 6/10\n",
            "40/40 [==============================] - 0s 4ms/step - loss: 0.5102 - accuracy: 0.8242\n",
            "Epoch 7/10\n",
            "40/40 [==============================] - 0s 4ms/step - loss: 0.4862 - accuracy: 0.8322\n",
            "Epoch 8/10\n",
            "40/40 [==============================] - 0s 4ms/step - loss: 0.4679 - accuracy: 0.8377\n",
            "Epoch 9/10\n",
            "40/40 [==============================] - 0s 4ms/step - loss: 0.4550 - accuracy: 0.8425\n",
            "Epoch 10/10\n",
            "40/40 [==============================] - 0s 4ms/step - loss: 0.4410 - accuracy: 0.8477\n",
            "20/20 [==============================] - 0s 4ms/step\n",
            "Epoch 1/5\n",
            "8/8 [==============================] - 0s 12ms/step - loss: 2.1761 - accuracy: 0.1998\n",
            "Epoch 2/5\n",
            "8/8 [==============================] - 0s 10ms/step - loss: 1.8608 - accuracy: 0.3658\n",
            "Epoch 3/5\n",
            "8/8 [==============================] - 0s 11ms/step - loss: 1.5802 - accuracy: 0.4927\n",
            "Epoch 4/5\n",
            "8/8 [==============================] - 0s 10ms/step - loss: 1.3328 - accuracy: 0.5848\n",
            "Epoch 5/5\n",
            "8/8 [==============================] - 0s 9ms/step - loss: 1.1509 - accuracy: 0.6392\n",
            "4/4 [==============================] - 0s 9ms/step\n",
            "Epoch 1/5\n",
            "8/8 [==============================] - 0s 13ms/step - loss: 2.1974 - accuracy: 0.2016\n",
            "Epoch 2/5\n",
            "8/8 [==============================] - 0s 12ms/step - loss: 1.7520 - accuracy: 0.4760\n",
            "Epoch 3/5\n",
            "8/8 [==============================] - 0s 11ms/step - loss: 1.4555 - accuracy: 0.5663\n",
            "Epoch 4/5\n",
            "8/8 [==============================] - 0s 12ms/step - loss: 1.2276 - accuracy: 0.6277\n",
            "Epoch 5/5\n",
            "8/8 [==============================] - 0s 11ms/step - loss: 1.0584 - accuracy: 0.6747\n",
            "4/4 [==============================] - 0s 9ms/step\n",
            "Epoch 1/5\n",
            "8/8 [==============================] - 0s 11ms/step - loss: 2.4222 - accuracy: 0.1579\n",
            "Epoch 2/5\n",
            "8/8 [==============================] - 0s 11ms/step - loss: 2.0083 - accuracy: 0.3546\n",
            "Epoch 3/5\n",
            "8/8 [==============================] - 0s 10ms/step - loss: 1.7434 - accuracy: 0.4662\n",
            "Epoch 4/5\n",
            "8/8 [==============================] - 0s 11ms/step - loss: 1.5373 - accuracy: 0.5306\n",
            "Epoch 5/5\n",
            "8/8 [==============================] - 0s 10ms/step - loss: 1.3595 - accuracy: 0.5771\n",
            "4/4 [==============================] - 0s 8ms/step\n",
            "Epoch 1/5\n",
            "8/8 [==============================] - 0s 11ms/step - loss: 2.1286 - accuracy: 0.2621\n",
            "Epoch 2/5\n",
            "8/8 [==============================] - 0s 10ms/step - loss: 1.7519 - accuracy: 0.4126\n",
            "Epoch 3/5\n",
            "8/8 [==============================] - 0s 10ms/step - loss: 1.4353 - accuracy: 0.5638\n",
            "Epoch 4/5\n",
            "8/8 [==============================] - 0s 9ms/step - loss: 1.1781 - accuracy: 0.6614\n",
            "Epoch 5/5\n",
            "8/8 [==============================] - 0s 10ms/step - loss: 0.9984 - accuracy: 0.7008\n",
            "4/4 [==============================] - 0s 9ms/step\n",
            "Epoch 1/5\n",
            "8/8 [==============================] - 0s 12ms/step - loss: 2.2985 - accuracy: 0.1453\n",
            "Epoch 2/5\n",
            "8/8 [==============================] - 0s 14ms/step - loss: 1.8652 - accuracy: 0.3316\n",
            "Epoch 3/5\n",
            "8/8 [==============================] - 0s 11ms/step - loss: 1.5825 - accuracy: 0.4605\n",
            "Epoch 4/5\n",
            "8/8 [==============================] - 0s 11ms/step - loss: 1.3666 - accuracy: 0.5773\n",
            "Epoch 5/5\n",
            "8/8 [==============================] - 0s 11ms/step - loss: 1.1899 - accuracy: 0.6537\n",
            "4/4 [==============================] - 0s 8ms/step\n",
            "Epoch 1/5\n",
            "8/8 [==============================] - 0s 11ms/step - loss: 2.2678 - accuracy: 0.1622\n",
            "Epoch 2/5\n",
            "8/8 [==============================] - 0s 11ms/step - loss: 1.9330 - accuracy: 0.3629\n",
            "Epoch 3/5\n",
            "8/8 [==============================] - 0s 13ms/step - loss: 1.6600 - accuracy: 0.4847\n",
            "Epoch 4/5\n",
            "8/8 [==============================] - 0s 11ms/step - loss: 1.4143 - accuracy: 0.5823\n",
            "Epoch 5/5\n",
            "8/8 [==============================] - 0s 10ms/step - loss: 1.2007 - accuracy: 0.6508\n",
            "4/4 [==============================] - 0s 11ms/step\n",
            "Epoch 1/5\n",
            "8/8 [==============================] - 1s 19ms/step - loss: 2.2402 - accuracy: 0.2115\n",
            "Epoch 2/5\n",
            "8/8 [==============================] - 0s 12ms/step - loss: 1.8654 - accuracy: 0.3165\n",
            "Epoch 3/5\n",
            "8/8 [==============================] - 0s 13ms/step - loss: 1.5606 - accuracy: 0.4546\n",
            "Epoch 4/5\n",
            "8/8 [==============================] - 0s 16ms/step - loss: 1.3071 - accuracy: 0.5720\n",
            "Epoch 5/5\n",
            "8/8 [==============================] - 0s 14ms/step - loss: 1.1030 - accuracy: 0.6567\n",
            "4/4 [==============================] - 0s 10ms/step\n",
            "Epoch 1/5\n",
            "8/8 [==============================] - 0s 10ms/step - loss: 2.3894 - accuracy: 0.1300\n",
            "Epoch 2/5\n",
            "8/8 [==============================] - 0s 12ms/step - loss: 1.9058 - accuracy: 0.3726\n",
            "Epoch 3/5\n",
            "8/8 [==============================] - 0s 11ms/step - loss: 1.5914 - accuracy: 0.4920\n",
            "Epoch 4/5\n",
            "8/8 [==============================] - 0s 10ms/step - loss: 1.3450 - accuracy: 0.5562\n",
            "Epoch 5/5\n",
            "8/8 [==============================] - 0s 10ms/step - loss: 1.1604 - accuracy: 0.6009\n",
            "4/4 [==============================] - 0s 8ms/step\n",
            "Epoch 1/5\n",
            "8/8 [==============================] - 0s 11ms/step - loss: 2.3751 - accuracy: 0.1267\n",
            "Epoch 2/5\n",
            "8/8 [==============================] - 0s 10ms/step - loss: 1.9718 - accuracy: 0.3469\n",
            "Epoch 3/5\n",
            "8/8 [==============================] - 0s 11ms/step - loss: 1.7114 - accuracy: 0.4819\n",
            "Epoch 4/5\n",
            "8/8 [==============================] - 0s 12ms/step - loss: 1.4751 - accuracy: 0.5627\n",
            "Epoch 5/5\n",
            "8/8 [==============================] - 0s 11ms/step - loss: 1.2785 - accuracy: 0.6168\n",
            "4/4 [==============================] - 0s 9ms/step\n",
            "Epoch 1/10\n",
            "8/8 [==============================] - 1s 10ms/step - loss: 2.3272 - accuracy: 0.1339\n",
            "Epoch 2/10\n",
            "8/8 [==============================] - 0s 10ms/step - loss: 1.9631 - accuracy: 0.3446\n",
            "Epoch 3/10\n",
            "8/8 [==============================] - 0s 10ms/step - loss: 1.6921 - accuracy: 0.4676\n",
            "Epoch 4/10\n",
            "8/8 [==============================] - 0s 11ms/step - loss: 1.4136 - accuracy: 0.5935\n",
            "Epoch 5/10\n",
            "8/8 [==============================] - 0s 9ms/step - loss: 1.1708 - accuracy: 0.6492\n",
            "Epoch 6/10\n",
            "8/8 [==============================] - 0s 10ms/step - loss: 0.9948 - accuracy: 0.6910\n",
            "Epoch 7/10\n",
            "8/8 [==============================] - 0s 10ms/step - loss: 0.8768 - accuracy: 0.7136\n",
            "Epoch 8/10\n",
            "8/8 [==============================] - 0s 11ms/step - loss: 0.7981 - accuracy: 0.7281\n",
            "Epoch 9/10\n",
            "8/8 [==============================] - 0s 10ms/step - loss: 0.7434 - accuracy: 0.7423\n",
            "Epoch 10/10\n",
            "8/8 [==============================] - 0s 10ms/step - loss: 0.7028 - accuracy: 0.7553\n",
            "4/4 [==============================] - 0s 8ms/step\n",
            "Epoch 1/10\n",
            "8/8 [==============================] - 0s 11ms/step - loss: 2.3042 - accuracy: 0.2034\n",
            "Epoch 2/10\n",
            "8/8 [==============================] - 0s 11ms/step - loss: 1.9303 - accuracy: 0.3015\n",
            "Epoch 3/10\n",
            "8/8 [==============================] - 0s 11ms/step - loss: 1.6800 - accuracy: 0.4002\n",
            "Epoch 4/10\n",
            "8/8 [==============================] - 0s 10ms/step - loss: 1.4746 - accuracy: 0.5023\n",
            "Epoch 5/10\n",
            "8/8 [==============================] - 0s 10ms/step - loss: 1.3000 - accuracy: 0.5975\n",
            "Epoch 6/10\n",
            "8/8 [==============================] - 0s 11ms/step - loss: 1.1405 - accuracy: 0.6671\n",
            "Epoch 7/10\n",
            "8/8 [==============================] - 0s 10ms/step - loss: 0.9988 - accuracy: 0.7044\n",
            "Epoch 8/10\n",
            "8/8 [==============================] - 0s 10ms/step - loss: 0.8864 - accuracy: 0.7245\n",
            "Epoch 9/10\n",
            "8/8 [==============================] - 0s 10ms/step - loss: 0.8013 - accuracy: 0.7397\n",
            "Epoch 10/10\n",
            "8/8 [==============================] - 0s 9ms/step - loss: 0.7416 - accuracy: 0.7531\n",
            "4/4 [==============================] - 0s 8ms/step\n",
            "Epoch 1/10\n",
            "8/8 [==============================] - 0s 11ms/step - loss: 2.2454 - accuracy: 0.1919\n",
            "Epoch 2/10\n",
            "8/8 [==============================] - 0s 12ms/step - loss: 1.9163 - accuracy: 0.3453\n",
            "Epoch 3/10\n",
            "8/8 [==============================] - 0s 12ms/step - loss: 1.6686 - accuracy: 0.4279\n",
            "Epoch 4/10\n",
            "8/8 [==============================] - 0s 14ms/step - loss: 1.4341 - accuracy: 0.5455\n",
            "Epoch 5/10\n",
            "8/8 [==============================] - 0s 13ms/step - loss: 1.2328 - accuracy: 0.6235\n",
            "Epoch 6/10\n",
            "8/8 [==============================] - 0s 14ms/step - loss: 1.0729 - accuracy: 0.6716\n",
            "Epoch 7/10\n",
            "8/8 [==============================] - 0s 14ms/step - loss: 0.9519 - accuracy: 0.7031\n",
            "Epoch 8/10\n",
            "8/8 [==============================] - 0s 13ms/step - loss: 0.8634 - accuracy: 0.7250\n",
            "Epoch 9/10\n",
            "8/8 [==============================] - 0s 18ms/step - loss: 0.7958 - accuracy: 0.7426\n",
            "Epoch 10/10\n",
            "8/8 [==============================] - 0s 12ms/step - loss: 0.7429 - accuracy: 0.7552\n",
            "4/4 [==============================] - 0s 8ms/step\n",
            "Epoch 1/10\n",
            "8/8 [==============================] - 1s 11ms/step - loss: 2.2332 - accuracy: 0.1716\n",
            "Epoch 2/10\n",
            "8/8 [==============================] - 0s 11ms/step - loss: 1.8239 - accuracy: 0.3883\n",
            "Epoch 3/10\n",
            "8/8 [==============================] - 0s 11ms/step - loss: 1.5189 - accuracy: 0.5346\n",
            "Epoch 4/10\n",
            "8/8 [==============================] - 0s 11ms/step - loss: 1.2917 - accuracy: 0.6001\n",
            "Epoch 5/10\n",
            "8/8 [==============================] - 0s 10ms/step - loss: 1.1277 - accuracy: 0.6398\n",
            "Epoch 6/10\n",
            "8/8 [==============================] - 0s 11ms/step - loss: 0.9989 - accuracy: 0.6782\n",
            "Epoch 7/10\n",
            "8/8 [==============================] - 0s 10ms/step - loss: 0.9019 - accuracy: 0.7102\n",
            "Epoch 8/10\n",
            "8/8 [==============================] - 0s 13ms/step - loss: 0.8273 - accuracy: 0.7271\n",
            "Epoch 9/10\n",
            "8/8 [==============================] - 0s 11ms/step - loss: 0.7703 - accuracy: 0.7413\n",
            "Epoch 10/10\n",
            "8/8 [==============================] - 0s 10ms/step - loss: 0.7267 - accuracy: 0.7513\n",
            "4/4 [==============================] - 0s 8ms/step\n",
            "Epoch 1/10\n",
            "8/8 [==============================] - 0s 11ms/step - loss: 2.3698 - accuracy: 0.1945\n",
            "Epoch 2/10\n",
            "8/8 [==============================] - 0s 10ms/step - loss: 1.9362 - accuracy: 0.3298\n",
            "Epoch 3/10\n",
            "8/8 [==============================] - 0s 10ms/step - loss: 1.6909 - accuracy: 0.4051\n",
            "Epoch 4/10\n",
            "8/8 [==============================] - 0s 12ms/step - loss: 1.4820 - accuracy: 0.5122\n",
            "Epoch 5/10\n",
            "8/8 [==============================] - 0s 10ms/step - loss: 1.2953 - accuracy: 0.6041\n",
            "Epoch 6/10\n",
            "8/8 [==============================] - 0s 10ms/step - loss: 1.1269 - accuracy: 0.6490\n",
            "Epoch 7/10\n",
            "8/8 [==============================] - 0s 10ms/step - loss: 0.9979 - accuracy: 0.6880\n",
            "Epoch 8/10\n",
            "8/8 [==============================] - 0s 12ms/step - loss: 0.9014 - accuracy: 0.7077\n",
            "Epoch 9/10\n",
            "8/8 [==============================] - 0s 11ms/step - loss: 0.8295 - accuracy: 0.7251\n",
            "Epoch 10/10\n",
            "8/8 [==============================] - 0s 10ms/step - loss: 0.7759 - accuracy: 0.7378\n",
            "4/4 [==============================] - 0s 8ms/step\n",
            "Epoch 1/10\n",
            "8/8 [==============================] - 0s 10ms/step - loss: 2.1995 - accuracy: 0.2190\n",
            "Epoch 2/10\n",
            "8/8 [==============================] - 0s 9ms/step - loss: 1.7637 - accuracy: 0.4022\n",
            "Epoch 3/10\n",
            "8/8 [==============================] - 0s 10ms/step - loss: 1.4778 - accuracy: 0.5141\n",
            "Epoch 4/10\n",
            "8/8 [==============================] - 0s 11ms/step - loss: 1.2756 - accuracy: 0.5883\n",
            "Epoch 5/10\n",
            "8/8 [==============================] - 0s 10ms/step - loss: 1.1222 - accuracy: 0.6476\n",
            "Epoch 6/10\n",
            "8/8 [==============================] - 0s 10ms/step - loss: 1.0043 - accuracy: 0.6924\n",
            "Epoch 7/10\n",
            "8/8 [==============================] - 0s 11ms/step - loss: 0.9137 - accuracy: 0.7189\n",
            "Epoch 8/10\n",
            "8/8 [==============================] - 0s 10ms/step - loss: 0.8433 - accuracy: 0.7363\n",
            "Epoch 9/10\n",
            "8/8 [==============================] - 0s 11ms/step - loss: 0.7874 - accuracy: 0.7485\n",
            "Epoch 10/10\n",
            "8/8 [==============================] - 0s 10ms/step - loss: 0.7412 - accuracy: 0.7592\n",
            "4/4 [==============================] - 0s 8ms/step\n",
            "Epoch 1/10\n",
            "8/8 [==============================] - 0s 11ms/step - loss: 2.1462 - accuracy: 0.2245\n",
            "Epoch 2/10\n",
            "8/8 [==============================] - 0s 10ms/step - loss: 1.8014 - accuracy: 0.4572\n",
            "Epoch 3/10\n",
            "8/8 [==============================] - 0s 10ms/step - loss: 1.5337 - accuracy: 0.5542\n",
            "Epoch 4/10\n",
            "8/8 [==============================] - 0s 10ms/step - loss: 1.3208 - accuracy: 0.6126\n",
            "Epoch 5/10\n",
            "8/8 [==============================] - 0s 9ms/step - loss: 1.1509 - accuracy: 0.6515\n",
            "Epoch 6/10\n",
            "8/8 [==============================] - 0s 10ms/step - loss: 1.0181 - accuracy: 0.6846\n",
            "Epoch 7/10\n",
            "8/8 [==============================] - 0s 10ms/step - loss: 0.9171 - accuracy: 0.7096\n",
            "Epoch 8/10\n",
            "8/8 [==============================] - 0s 11ms/step - loss: 0.8408 - accuracy: 0.7255\n",
            "Epoch 9/10\n",
            "8/8 [==============================] - 0s 10ms/step - loss: 0.7827 - accuracy: 0.7357\n",
            "Epoch 10/10\n",
            "8/8 [==============================] - 0s 9ms/step - loss: 0.7384 - accuracy: 0.7467\n",
            "4/4 [==============================] - 0s 7ms/step\n",
            "Epoch 1/10\n",
            "8/8 [==============================] - 0s 11ms/step - loss: 2.4046 - accuracy: 0.1067\n",
            "Epoch 2/10\n",
            "8/8 [==============================] - 0s 10ms/step - loss: 2.0081 - accuracy: 0.3539\n",
            "Epoch 3/10\n",
            "8/8 [==============================] - 0s 10ms/step - loss: 1.7351 - accuracy: 0.5003\n",
            "Epoch 4/10\n",
            "8/8 [==============================] - 0s 10ms/step - loss: 1.4787 - accuracy: 0.5635\n",
            "Epoch 5/10\n",
            "8/8 [==============================] - 0s 12ms/step - loss: 1.2636 - accuracy: 0.6168\n",
            "Epoch 6/10\n",
            "8/8 [==============================] - 0s 12ms/step - loss: 1.0930 - accuracy: 0.6643\n",
            "Epoch 7/10\n",
            "8/8 [==============================] - 0s 10ms/step - loss: 0.9682 - accuracy: 0.6903\n",
            "Epoch 8/10\n",
            "8/8 [==============================] - 0s 11ms/step - loss: 0.8799 - accuracy: 0.7088\n",
            "Epoch 9/10\n",
            "8/8 [==============================] - 0s 11ms/step - loss: 0.8171 - accuracy: 0.7214\n",
            "Epoch 10/10\n",
            "8/8 [==============================] - 0s 11ms/step - loss: 0.7704 - accuracy: 0.7333\n",
            "4/4 [==============================] - 0s 11ms/step\n",
            "Epoch 1/10\n",
            "8/8 [==============================] - 1s 17ms/step - loss: 2.4287 - accuracy: 0.1729\n",
            "Epoch 2/10\n",
            "8/8 [==============================] - 0s 16ms/step - loss: 1.9808 - accuracy: 0.2610\n",
            "Epoch 3/10\n",
            "8/8 [==============================] - 0s 11ms/step - loss: 1.7568 - accuracy: 0.3701\n",
            "Epoch 4/10\n",
            "8/8 [==============================] - 0s 11ms/step - loss: 1.5623 - accuracy: 0.4896\n",
            "Epoch 5/10\n",
            "8/8 [==============================] - 0s 11ms/step - loss: 1.3845 - accuracy: 0.5770\n",
            "Epoch 6/10\n",
            "8/8 [==============================] - 0s 11ms/step - loss: 1.2327 - accuracy: 0.6247\n",
            "Epoch 7/10\n",
            "8/8 [==============================] - 0s 11ms/step - loss: 1.1050 - accuracy: 0.6639\n",
            "Epoch 8/10\n",
            "8/8 [==============================] - 0s 12ms/step - loss: 0.9975 - accuracy: 0.6970\n",
            "Epoch 9/10\n",
            "8/8 [==============================] - 0s 12ms/step - loss: 0.9044 - accuracy: 0.7207\n",
            "Epoch 10/10\n",
            "8/8 [==============================] - 0s 10ms/step - loss: 0.8276 - accuracy: 0.7382\n",
            "4/4 [==============================] - 0s 9ms/step\n",
            "0.8427666666666666 {'batch_size': 1000, 'epochs': 10, 'optimizer': 'Adam'}\n"
          ]
        }
      ]
    },
    {
      "cell_type": "code",
      "source": [
        "print(grid_result.best_score_, grid_result.best_params_)"
      ],
      "metadata": {
        "colab": {
          "base_uri": "https://localhost:8080/"
        },
        "id": "QEmVGzqMOPGW",
        "outputId": "3885b55b-f2ac-4034-aba8-2c52104d7d7d"
      },
      "execution_count": 277,
      "outputs": [
        {
          "output_type": "stream",
          "name": "stdout",
          "text": [
            "0.8427666666666666 {'batch_size': 1000, 'epochs': 10, 'optimizer': 'Adam'}\n"
          ]
        }
      ]
    },
    {
      "cell_type": "code",
      "source": [
        "df = pd.DataFrame(grid_result.cv_results_)"
      ],
      "metadata": {
        "id": "J5-ybItdOSuU"
      },
      "execution_count": 278,
      "outputs": []
    },
    {
      "cell_type": "code",
      "source": [
        "df.sort_values(['mean_test_score'],ascending=False)[['param_batch_size','param_epochs','param_optimizer','mean_test_score']].head(10)"
      ],
      "metadata": {
        "colab": {
          "base_uri": "https://localhost:8080/",
          "height": 363
        },
        "id": "0DzPNSt8V7i5",
        "outputId": "574bada9-0558-4260-eaaf-4d91893186f7"
      },
      "execution_count": 279,
      "outputs": [
        {
          "output_type": "execute_result",
          "data": {
            "text/plain": [
              "   param_batch_size param_epochs param_optimizer  mean_test_score\n",
              "5              1000           10            Adam         0.842767\n",
              "3              1000           10             SGD         0.842083\n",
              "4              1000           10         RMSprop         0.842017\n",
              "1              1000            5         RMSprop         0.814967\n",
              "2              1000            5            Adam         0.812667\n",
              "0              1000            5             SGD         0.811317\n",
              "9              5000           10             SGD         0.761633\n",
              "10             5000           10         RMSprop         0.754733\n",
              "11             5000           10            Adam         0.744300\n",
              "7              5000            5         RMSprop         0.687250"
            ],
            "text/html": [
              "\n",
              "  <div id=\"df-3596a71c-a947-4e4e-b90a-1fcc3a353dab\" class=\"colab-df-container\">\n",
              "    <div>\n",
              "<style scoped>\n",
              "    .dataframe tbody tr th:only-of-type {\n",
              "        vertical-align: middle;\n",
              "    }\n",
              "\n",
              "    .dataframe tbody tr th {\n",
              "        vertical-align: top;\n",
              "    }\n",
              "\n",
              "    .dataframe thead th {\n",
              "        text-align: right;\n",
              "    }\n",
              "</style>\n",
              "<table border=\"1\" class=\"dataframe\">\n",
              "  <thead>\n",
              "    <tr style=\"text-align: right;\">\n",
              "      <th></th>\n",
              "      <th>param_batch_size</th>\n",
              "      <th>param_epochs</th>\n",
              "      <th>param_optimizer</th>\n",
              "      <th>mean_test_score</th>\n",
              "    </tr>\n",
              "  </thead>\n",
              "  <tbody>\n",
              "    <tr>\n",
              "      <th>5</th>\n",
              "      <td>1000</td>\n",
              "      <td>10</td>\n",
              "      <td>Adam</td>\n",
              "      <td>0.842767</td>\n",
              "    </tr>\n",
              "    <tr>\n",
              "      <th>3</th>\n",
              "      <td>1000</td>\n",
              "      <td>10</td>\n",
              "      <td>SGD</td>\n",
              "      <td>0.842083</td>\n",
              "    </tr>\n",
              "    <tr>\n",
              "      <th>4</th>\n",
              "      <td>1000</td>\n",
              "      <td>10</td>\n",
              "      <td>RMSprop</td>\n",
              "      <td>0.842017</td>\n",
              "    </tr>\n",
              "    <tr>\n",
              "      <th>1</th>\n",
              "      <td>1000</td>\n",
              "      <td>5</td>\n",
              "      <td>RMSprop</td>\n",
              "      <td>0.814967</td>\n",
              "    </tr>\n",
              "    <tr>\n",
              "      <th>2</th>\n",
              "      <td>1000</td>\n",
              "      <td>5</td>\n",
              "      <td>Adam</td>\n",
              "      <td>0.812667</td>\n",
              "    </tr>\n",
              "    <tr>\n",
              "      <th>0</th>\n",
              "      <td>1000</td>\n",
              "      <td>5</td>\n",
              "      <td>SGD</td>\n",
              "      <td>0.811317</td>\n",
              "    </tr>\n",
              "    <tr>\n",
              "      <th>9</th>\n",
              "      <td>5000</td>\n",
              "      <td>10</td>\n",
              "      <td>SGD</td>\n",
              "      <td>0.761633</td>\n",
              "    </tr>\n",
              "    <tr>\n",
              "      <th>10</th>\n",
              "      <td>5000</td>\n",
              "      <td>10</td>\n",
              "      <td>RMSprop</td>\n",
              "      <td>0.754733</td>\n",
              "    </tr>\n",
              "    <tr>\n",
              "      <th>11</th>\n",
              "      <td>5000</td>\n",
              "      <td>10</td>\n",
              "      <td>Adam</td>\n",
              "      <td>0.744300</td>\n",
              "    </tr>\n",
              "    <tr>\n",
              "      <th>7</th>\n",
              "      <td>5000</td>\n",
              "      <td>5</td>\n",
              "      <td>RMSprop</td>\n",
              "      <td>0.687250</td>\n",
              "    </tr>\n",
              "  </tbody>\n",
              "</table>\n",
              "</div>\n",
              "    <div class=\"colab-df-buttons\">\n",
              "\n",
              "  <div class=\"colab-df-container\">\n",
              "    <button class=\"colab-df-convert\" onclick=\"convertToInteractive('df-3596a71c-a947-4e4e-b90a-1fcc3a353dab')\"\n",
              "            title=\"Convert this dataframe to an interactive table.\"\n",
              "            style=\"display:none;\">\n",
              "\n",
              "  <svg xmlns=\"http://www.w3.org/2000/svg\" height=\"24px\" viewBox=\"0 -960 960 960\">\n",
              "    <path d=\"M120-120v-720h720v720H120Zm60-500h600v-160H180v160Zm220 220h160v-160H400v160Zm0 220h160v-160H400v160ZM180-400h160v-160H180v160Zm440 0h160v-160H620v160ZM180-180h160v-160H180v160Zm440 0h160v-160H620v160Z\"/>\n",
              "  </svg>\n",
              "    </button>\n",
              "\n",
              "  <style>\n",
              "    .colab-df-container {\n",
              "      display:flex;\n",
              "      gap: 12px;\n",
              "    }\n",
              "\n",
              "    .colab-df-convert {\n",
              "      background-color: #E8F0FE;\n",
              "      border: none;\n",
              "      border-radius: 50%;\n",
              "      cursor: pointer;\n",
              "      display: none;\n",
              "      fill: #1967D2;\n",
              "      height: 32px;\n",
              "      padding: 0 0 0 0;\n",
              "      width: 32px;\n",
              "    }\n",
              "\n",
              "    .colab-df-convert:hover {\n",
              "      background-color: #E2EBFA;\n",
              "      box-shadow: 0px 1px 2px rgba(60, 64, 67, 0.3), 0px 1px 3px 1px rgba(60, 64, 67, 0.15);\n",
              "      fill: #174EA6;\n",
              "    }\n",
              "\n",
              "    .colab-df-buttons div {\n",
              "      margin-bottom: 4px;\n",
              "    }\n",
              "\n",
              "    [theme=dark] .colab-df-convert {\n",
              "      background-color: #3B4455;\n",
              "      fill: #D2E3FC;\n",
              "    }\n",
              "\n",
              "    [theme=dark] .colab-df-convert:hover {\n",
              "      background-color: #434B5C;\n",
              "      box-shadow: 0px 1px 3px 1px rgba(0, 0, 0, 0.15);\n",
              "      filter: drop-shadow(0px 1px 2px rgba(0, 0, 0, 0.3));\n",
              "      fill: #FFFFFF;\n",
              "    }\n",
              "  </style>\n",
              "\n",
              "    <script>\n",
              "      const buttonEl =\n",
              "        document.querySelector('#df-3596a71c-a947-4e4e-b90a-1fcc3a353dab button.colab-df-convert');\n",
              "      buttonEl.style.display =\n",
              "        google.colab.kernel.accessAllowed ? 'block' : 'none';\n",
              "\n",
              "      async function convertToInteractive(key) {\n",
              "        const element = document.querySelector('#df-3596a71c-a947-4e4e-b90a-1fcc3a353dab');\n",
              "        const dataTable =\n",
              "          await google.colab.kernel.invokeFunction('convertToInteractive',\n",
              "                                                    [key], {});\n",
              "        if (!dataTable) return;\n",
              "\n",
              "        const docLinkHtml = 'Like what you see? Visit the ' +\n",
              "          '<a target=\"_blank\" href=https://colab.research.google.com/notebooks/data_table.ipynb>data table notebook</a>'\n",
              "          + ' to learn more about interactive tables.';\n",
              "        element.innerHTML = '';\n",
              "        dataTable['output_type'] = 'display_data';\n",
              "        await google.colab.output.renderOutput(dataTable, element);\n",
              "        const docLink = document.createElement('div');\n",
              "        docLink.innerHTML = docLinkHtml;\n",
              "        element.appendChild(docLink);\n",
              "      }\n",
              "    </script>\n",
              "  </div>\n",
              "\n",
              "\n",
              "<div id=\"df-d3eeaed9-450a-4a46-967e-a19f583a3c65\">\n",
              "  <button class=\"colab-df-quickchart\" onclick=\"quickchart('df-d3eeaed9-450a-4a46-967e-a19f583a3c65')\"\n",
              "            title=\"Suggest charts.\"\n",
              "            style=\"display:none;\">\n",
              "\n",
              "<svg xmlns=\"http://www.w3.org/2000/svg\" height=\"24px\"viewBox=\"0 0 24 24\"\n",
              "     width=\"24px\">\n",
              "    <g>\n",
              "        <path d=\"M19 3H5c-1.1 0-2 .9-2 2v14c0 1.1.9 2 2 2h14c1.1 0 2-.9 2-2V5c0-1.1-.9-2-2-2zM9 17H7v-7h2v7zm4 0h-2V7h2v10zm4 0h-2v-4h2v4z\"/>\n",
              "    </g>\n",
              "</svg>\n",
              "  </button>\n",
              "\n",
              "<style>\n",
              "  .colab-df-quickchart {\n",
              "    background-color: #E8F0FE;\n",
              "    border: none;\n",
              "    border-radius: 50%;\n",
              "    cursor: pointer;\n",
              "    display: none;\n",
              "    fill: #1967D2;\n",
              "    height: 32px;\n",
              "    padding: 0 0 0 0;\n",
              "    width: 32px;\n",
              "  }\n",
              "\n",
              "  .colab-df-quickchart:hover {\n",
              "    background-color: #E2EBFA;\n",
              "    box-shadow: 0px 1px 2px rgba(60, 64, 67, 0.3), 0px 1px 3px 1px rgba(60, 64, 67, 0.15);\n",
              "    fill: #174EA6;\n",
              "  }\n",
              "\n",
              "  [theme=dark] .colab-df-quickchart {\n",
              "    background-color: #3B4455;\n",
              "    fill: #D2E3FC;\n",
              "  }\n",
              "\n",
              "  [theme=dark] .colab-df-quickchart:hover {\n",
              "    background-color: #434B5C;\n",
              "    box-shadow: 0px 1px 3px 1px rgba(0, 0, 0, 0.15);\n",
              "    filter: drop-shadow(0px 1px 2px rgba(0, 0, 0, 0.3));\n",
              "    fill: #FFFFFF;\n",
              "  }\n",
              "</style>\n",
              "\n",
              "  <script>\n",
              "    async function quickchart(key) {\n",
              "      const charts = await google.colab.kernel.invokeFunction(\n",
              "          'suggestCharts', [key], {});\n",
              "    }\n",
              "    (() => {\n",
              "      let quickchartButtonEl =\n",
              "        document.querySelector('#df-d3eeaed9-450a-4a46-967e-a19f583a3c65 button');\n",
              "      quickchartButtonEl.style.display =\n",
              "        google.colab.kernel.accessAllowed ? 'block' : 'none';\n",
              "    })();\n",
              "  </script>\n",
              "</div>\n",
              "    </div>\n",
              "  </div>\n"
            ]
          },
          "metadata": {},
          "execution_count": 279
        }
      ]
    },
    {
      "cell_type": "code",
      "source": [
        "model = create_model()\n",
        "\n",
        "# Train the model.\n",
        "model.fit(train_images, to_categorical(train_labels), epochs=50, batch_size=32,validation_split=0.2,callbacks=[stop])\n",
        "\n",
        "# Evaluate the model.\n",
        "loss,metrics = model.evaluate(test_images, y_test)\n",
        "print('*****************************')\n",
        "print(f'Loss - {np.round(loss,2)}, Metrics - {np.round(metrics,2)}')"
      ],
      "metadata": {
        "colab": {
          "base_uri": "https://localhost:8080/"
        },
        "id": "6GdxyvvMTGss",
        "outputId": "57695e7b-f0a2-4954-e445-6d53712d9d01"
      },
      "execution_count": 281,
      "outputs": [
        {
          "output_type": "stream",
          "name": "stdout",
          "text": [
            "Epoch 1/50\n",
            "1500/1500 [==============================] - 6s 4ms/step - loss: 0.6221 - accuracy: 0.7840 - val_loss: 0.4686 - val_accuracy: 0.8306\n",
            "Epoch 2/50\n",
            "1500/1500 [==============================] - 4s 3ms/step - loss: 0.4239 - accuracy: 0.8465 - val_loss: 0.4068 - val_accuracy: 0.8522\n",
            "Epoch 3/50\n",
            "1500/1500 [==============================] - 6s 4ms/step - loss: 0.3848 - accuracy: 0.8615 - val_loss: 0.3844 - val_accuracy: 0.8602\n",
            "Epoch 4/50\n",
            "1500/1500 [==============================] - 5s 3ms/step - loss: 0.3602 - accuracy: 0.8692 - val_loss: 0.3871 - val_accuracy: 0.8585\n",
            "Epoch 5/50\n",
            "1500/1500 [==============================] - 4s 3ms/step - loss: 0.3413 - accuracy: 0.8773 - val_loss: 0.3741 - val_accuracy: 0.8647\n",
            "Epoch 6/50\n",
            "1500/1500 [==============================] - 5s 4ms/step - loss: 0.3261 - accuracy: 0.8810 - val_loss: 0.3621 - val_accuracy: 0.8672\n",
            "Epoch 7/50\n",
            "1500/1500 [==============================] - 4s 3ms/step - loss: 0.3174 - accuracy: 0.8830 - val_loss: 0.3503 - val_accuracy: 0.8713\n",
            "Epoch 8/50\n",
            "1500/1500 [==============================] - 4s 3ms/step - loss: 0.3063 - accuracy: 0.8890 - val_loss: 0.3490 - val_accuracy: 0.8744\n",
            "Epoch 9/50\n",
            "1500/1500 [==============================] - 7s 5ms/step - loss: 0.2960 - accuracy: 0.8920 - val_loss: 0.3442 - val_accuracy: 0.8746\n",
            "Epoch 10/50\n",
            "1500/1500 [==============================] - 4s 3ms/step - loss: 0.2881 - accuracy: 0.8948 - val_loss: 0.3450 - val_accuracy: 0.8751\n",
            "Epoch 11/50\n",
            "1500/1500 [==============================] - 5s 3ms/step - loss: 0.2798 - accuracy: 0.8987 - val_loss: 0.3403 - val_accuracy: 0.8779\n",
            "Epoch 12/50\n",
            "1500/1500 [==============================] - 4s 3ms/step - loss: 0.2730 - accuracy: 0.9007 - val_loss: 0.3451 - val_accuracy: 0.8757\n",
            "Epoch 13/50\n",
            "1500/1500 [==============================] - 4s 3ms/step - loss: 0.2656 - accuracy: 0.9027 - val_loss: 0.3363 - val_accuracy: 0.8787\n",
            "Epoch 14/50\n",
            "1500/1500 [==============================] - 5s 3ms/step - loss: 0.2603 - accuracy: 0.9049 - val_loss: 0.3313 - val_accuracy: 0.8789\n",
            "Epoch 15/50\n",
            "1500/1500 [==============================] - 4s 3ms/step - loss: 0.2545 - accuracy: 0.9071 - val_loss: 0.3390 - val_accuracy: 0.8814\n",
            "Epoch 16/50\n",
            "1500/1500 [==============================] - 5s 3ms/step - loss: 0.2472 - accuracy: 0.9101 - val_loss: 0.3287 - val_accuracy: 0.8812\n",
            "Epoch 17/50\n",
            "1500/1500 [==============================] - 5s 3ms/step - loss: 0.2420 - accuracy: 0.9109 - val_loss: 0.3296 - val_accuracy: 0.8811\n",
            "Epoch 18/50\n",
            "1500/1500 [==============================] - 5s 3ms/step - loss: 0.2381 - accuracy: 0.9122 - val_loss: 0.3437 - val_accuracy: 0.8788\n",
            "Epoch 19/50\n",
            "1500/1500 [==============================] - 6s 4ms/step - loss: 0.2335 - accuracy: 0.9148 - val_loss: 0.3397 - val_accuracy: 0.8791\n",
            "Epoch 20/50\n",
            "1500/1500 [==============================] - 4s 3ms/step - loss: 0.2293 - accuracy: 0.9150 - val_loss: 0.3462 - val_accuracy: 0.8767\n",
            "Epoch 21/50\n",
            "1500/1500 [==============================] - 5s 3ms/step - loss: 0.2241 - accuracy: 0.9189 - val_loss: 0.3357 - val_accuracy: 0.8823\n",
            "Epoch 22/50\n",
            "1500/1500 [==============================] - 5s 4ms/step - loss: 0.2192 - accuracy: 0.9202 - val_loss: 0.3368 - val_accuracy: 0.8842\n",
            "Epoch 22: early stopping\n",
            "313/313 [==============================] - 1s 2ms/step - loss: 0.3672 - accuracy: 0.8749\n",
            "*****************************\n",
            "Loss - 0.37, Metrics - 0.87\n"
          ]
        }
      ]
    },
    {
      "cell_type": "markdown",
      "source": [
        "Оценка тестовой выборки"
      ],
      "metadata": {
        "id": "oPmmwsEZagQD"
      }
    },
    {
      "cell_type": "code",
      "source": [
        "test_pred = np.argmax(model.predict(test_images), axis=1)"
      ],
      "metadata": {
        "colab": {
          "base_uri": "https://localhost:8080/"
        },
        "id": "qSyo1YVxQqPI",
        "outputId": "25dac98a-1f67-4506-a607-205bc15a6e70"
      },
      "execution_count": 283,
      "outputs": [
        {
          "output_type": "stream",
          "name": "stdout",
          "text": [
            "313/313 [==============================] - 0s 1ms/step\n"
          ]
        }
      ]
    },
    {
      "cell_type": "code",
      "source": [
        "print(classification_report(test_labels, test_pred))"
      ],
      "metadata": {
        "colab": {
          "base_uri": "https://localhost:8080/"
        },
        "id": "JzAhxKQNRkmc",
        "outputId": "02ffa4c1-1f44-4cfa-c017-d5d2c43d5ddd"
      },
      "execution_count": 284,
      "outputs": [
        {
          "output_type": "stream",
          "name": "stdout",
          "text": [
            "              precision    recall  f1-score   support\n",
            "\n",
            "           0       0.81      0.85      0.83      1000\n",
            "           1       0.98      0.97      0.98      1000\n",
            "           2       0.72      0.85      0.78      1000\n",
            "           3       0.89      0.86      0.88      1000\n",
            "           4       0.79      0.83      0.81      1000\n",
            "           5       0.96      0.93      0.95      1000\n",
            "           6       0.76      0.58      0.66      1000\n",
            "           7       0.91      0.96      0.94      1000\n",
            "           8       0.96      0.96      0.96      1000\n",
            "           9       0.96      0.95      0.96      1000\n",
            "\n",
            "    accuracy                           0.87     10000\n",
            "   macro avg       0.88      0.87      0.87     10000\n",
            "weighted avg       0.88      0.87      0.87     10000\n",
            "\n"
          ]
        }
      ]
    },
    {
      "cell_type": "markdown",
      "source": [
        " Multi-Class Classifications"
      ],
      "metadata": {
        "id": "4xcZRSVKV7kE"
      }
    },
    {
      "cell_type": "code",
      "source": [
        "print(confusion_matrix(test_labels, test_pred))"
      ],
      "metadata": {
        "colab": {
          "base_uri": "https://localhost:8080/"
        },
        "id": "6qfzDvXzQrhH",
        "outputId": "0aec5600-e8f4-40e1-bd1d-6b088f5116f9"
      },
      "execution_count": 285,
      "outputs": [
        {
          "output_type": "stream",
          "name": "stdout",
          "text": [
            "[[853   1  30  16   4   2  82   0  12   0]\n",
            " [  3 969   0  18   6   1   2   0   1   0]\n",
            " [ 14   0 852   8  83   1  39   0   3   0]\n",
            " [ 32  10  23 858  43   0  29   0   5   0]\n",
            " [  0   2 118  26 829   0  23   0   2   0]\n",
            " [  0   0   0   0   0 928   0  48   2  22]\n",
            " [143   1 144  31  83   0 582   0  16   0]\n",
            " [  0   0   0   0   0  18   0 962   0  20]\n",
            " [  4   1   9   3   3   5   5   7 963   0]\n",
            " [  0   0   0   0   0   7   1  39   0 953]]\n"
          ]
        }
      ]
    },
    {
      "cell_type": "code",
      "source": [
        "#Plot the confusion matrix.\n",
        "import seaborn as sns\n",
        "cm = confusion_matrix(test_labels, test_pred)\n",
        "sns.heatmap(cm,\n",
        "            annot=True,\n",
        "            fmt='g')\n",
        "plt.ylabel('Prediction',fontsize=13)\n",
        "plt.xlabel('Actual',fontsize=13)\n",
        "plt.title('Confusion Matrix',fontsize=17)\n",
        "plt.show()"
      ],
      "metadata": {
        "colab": {
          "base_uri": "https://localhost:8080/",
          "height": 481
        },
        "id": "aBIoWuqRUydn",
        "outputId": "7b8b70b0-7385-4e04-c2fa-4316c1de530e"
      },
      "execution_count": 286,
      "outputs": [
        {
          "output_type": "display_data",
          "data": {
            "text/plain": [
              "<Figure size 640x480 with 2 Axes>"
            ],
            "image/png": "[encoded data removed]"
          },
          "metadata": {}
        }
      ]
    },
    {
      "cell_type": "markdown",
      "source": [
        "результат предсказаний для обученной модели(2 слойная)"
      ],
      "metadata": {
        "id": "bxGFUSJiaBCj"
      }
    },
    {
      "cell_type": "code",
      "source": [
        "N = 5\n",
        "y_pred = model.predict(test_images[:N,:])\n",
        "y_pred_class = np.argmax(y_pred,axis=1)\n",
        "plt.figure(figsize =(3*N,5))\n",
        "for i in range(N):\n",
        "  plt.subplot(1,N,i+1)\n",
        "  plt.imshow(test_images[i,:].reshape(28,28))\n",
        "  plt.xlabel(str(y_pred_class[i]))\n",
        "plt.show()"
      ],
      "metadata": {
        "colab": {
          "base_uri": "https://localhost:8080/",
          "height": 276
        },
        "id": "UNZXZ33QZfdi",
        "outputId": "96bf01c9-81f3-4947-ee06-de72d0ca847d"
      },
      "execution_count": 287,
      "outputs": [
        {
          "output_type": "stream",
          "name": "stdout",
          "text": [
            "1/1 [==============================] - 0s 30ms/step\n"
          ]
        },
        {
          "output_type": "display_data",
          "data": {
            "text/plain": [
              "<Figure size 1500x500 with 5 Axes>"
            ],
            "image/png": "[encoded data removed]"
          },
          "metadata": {}
        }
      ]
    },
    {
      "cell_type": "markdown",
      "source": [
        "##Вывод:\n",
        "\n",
        "\n",
        "Качество классификации в нейросети  помогла улучшить настройка архитектуры модели:\n",
        "* подбор ширины скрытого слоя и функции активации\n",
        "* подбор количества слоев\n",
        "* подбор количества эпох\n",
        "* подбор оптимизатора\n",
        "\n",
        "В данном конкретном эксперименте, мы столкнулись с улучшенной точностью на 2слоях при использовании оптимизатора Adam."
      ],
      "metadata": {
        "id": "JYKbhKz-a046"
      }
    },
    {
      "cell_type": "code",
      "source": [],
      "metadata": {
        "id": "1AZc_kipbn_z"
      },
      "execution_count": null,
      "outputs": []
    }
  ],
  "metadata": {
    "accelerator": "GPU",
    "colab": {
      "provenance": [],
      "gpuType": "T4",
      "include_colab_link": true
    },
    "kernelspec": {
      "display_name": "Python 3",
      "name": "python3"
    },
    "language_info": {
      "codemirror_mode": {
        "name": "ipython",
        "version": 3
      },
      "file_extension": ".py",
      "mimetype": "text/x-python",
      "name": "python",
      "nbconvert_exporter": "python",
      "pygments_lexer": "ipython3",
      "version": "3.7.7"
    }
  },
  "nbformat": 4,
  "nbformat_minor": 0
}